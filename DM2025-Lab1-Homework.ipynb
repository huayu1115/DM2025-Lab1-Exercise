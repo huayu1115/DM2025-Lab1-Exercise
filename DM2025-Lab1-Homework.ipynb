{
 "cells": [
  {
   "cell_type": "markdown",
   "metadata": {},
   "source": [
    "### Student Information\n",
    "Name:吳花瑜\n",
    "\n",
    "Student ID:114065534\n",
    "\n",
    "GitHub ID:huayu1115"
   ]
  },
  {
   "cell_type": "markdown",
   "metadata": {},
   "source": [
    "---"
   ]
  },
  {
   "cell_type": "markdown",
   "metadata": {},
   "source": [
    "### Instructions"
   ]
  },
  {
   "cell_type": "markdown",
   "metadata": {},
   "source": [
    "### First Phase Submission"
   ]
  },
  {
   "cell_type": "markdown",
   "metadata": {},
   "source": [
    "1. First: do the **take home** exercises in the [DM2025-Lab1-Master](https://github.com/leoson-wu/DM2025-Lab1-Exercise/blob/main/DM2025-Lab1-Master.ipynb) that considered as **phase 1 (from exercise 1 to exercise 15)**. You can answer in the master file. __This part is worth 10% of your grade.__\n",
    "\n",
    "\n",
    "2. Second: follow the same process from the [DM2025-Lab1-Master](https://github.com/leoson-wu/DM2025-Lab1-Exercise/blob/main/DM2025-Lab1-Master.ipynb) on **the new dataset** up **until phase 1**. You can skip some exercises if you think some steps are not necessary. However main exercises should be completed. You don't need to explain all details as we did (some **minimal comments** explaining your code are useful though).  __This part is worth 15% of your grade.__\n",
    "    -  Use [the new dataset](https://github.com/leoson-wu/DM2025-Lab1-Exercise/blob/main/newdataset/Reddit-stock-sentiment.csv). The dataset contains a 16 columns including 'text' and 'label', with the sentiment labels being: 1.0 is positive, 0.0 is neutral and -1.0 is negative. You can simplify the dataset and use only the columns that you think are necessary. \n",
    "    \n",
    "    - You are allowed to use and modify the `helper` functions in the folder of the first lab session (notice they may need modification) or create your own.\n",
    "    - Use this file to complete the homework from the second part. Make sure the code can be run from the beginning till the end and has all the needed output.\n",
    "\n",
    "\n",
    "3. Third: please attempt the following tasks on **the new dataset**. __This part is worth 10% of your grade.__\n",
    "    - Generate meaningful **new data visualizations**. Refer to online resources and the Data Mining textbook for inspiration and ideas. \n",
    "    \n",
    "\n",
    "\n",
    "4. Fourth: It's hard for us to follow if your code is messy, so please **tidy up your notebook** and **add minimal comments where needed**. __This part is worth 5% of your grade.__\n",
    "\n",
    "You can submit your homework following these guidelines: [DM2025-Lab1-announcement](https://github.com/leoson-wu/DM2025-Lab1-Announcement/blob/main/README.md). Make sure to commit and save your changes to your repository __BEFORE the deadline (September 28th 11:59 pm, Sunday)__. "
   ]
  },
  {
   "cell_type": "markdown",
   "metadata": {},
   "source": [
    "### Second Phase Submission "
   ]
  },
  {
   "cell_type": "markdown",
   "metadata": {},
   "source": [
    "**You can keep the answer for phase 1 for easier running and update the phase 2 on the same page.**\n",
    "\n",
    "1. First: Continue doing the **take home** exercises in the [DM2025-Lab1-Master](https://github.com/leoson-wu/DM2025-Lab1-Exercise/blob/main/DM2025-Lab1-Master.ipynb) for **phase 2, starting from Finding frequent patterns**. Use the same master(.ipynb) file. Answer from phase 1 will not be considered at this stage. You can answer in the master file. __This part is worth 10% of your grade.__\n",
    "\n",
    "\n",
    "2. Second: Continue from first phase and do the same process from the [DM2025-Lab1-Master](https://github.com/leoson-wu/DM2025-Lab1-Exercise/blob/main/DM2025-Lab1-Master.ipynb) on **the new dataset** for phase 2, starting from Finding frequent pattern. You can skip some exercises if you think some steps are not necessary. However main exercises should be completed. You don't need to explain all details as we did (some **minimal comments** explaining your code are useful though).  __This part is worth 15% of your grade.__\n",
    "    - Continue using this file to complete the homework from the second part. Make sure the code can be run from the beginning till the end and has all the needed output. Use the same new dataset as in phase 1.\n",
    "    \n",
    "    - You are allowed to use and modify the `helper` functions in the folder of the first lab session (notice they may need modification) or create your own.\n",
    "\n",
    "3. Third: please attempt the following tasks on **the new dataset**. __This part is worth 20% of your grade.__\n",
    "    - Use this file to answer.\n",
    "    - Generate **TF-IDF features** from the tokens of each text. This will generating a document matrix, however, the weights will be computed differently (using the TF-IDF value of each word per document as opposed to the word frequency).  Refer to this Scikit-learn [guide](http://scikit-learn.org/stable/modules/generated/sklearn.feature_extraction.text.TfidfVectorizer.html) .\n",
    "    - Implement a simple **Naive Bayes classifier** that automatically classifies the records into their categories. Use both the TF-IDF features and word frequency features to build two seperate classifiers. Note that for the TF-IDF features you might need to use other type of NB classifier different than the one in the Master Notebook. Comment on the differences and when using augmentation with feature pattern.  Refer to this [article](https://hub.packtpub.com/implementing-3-naive-bayes-classifiers-in-scikit-learn/).\n",
    "\n",
    "\n",
    "4. Fourth: In the lab, we applied each step really quickly just to illustrate how to work with your dataset. There are somethings that are not ideal or the most efficient/meaningful. Each dataset can be handled differently as well. What are those inefficent parts you noticed? How can you improve the Data preprocessing for these specific datasets? __This part is worth 10% of your grade.__\n",
    "\n",
    "\n",
    "5. Fifth: It's hard for us to follow if your code is messy, so please **tidy up your notebook** and **add minimal comments where needed**. __This part is worth 5% of your grade.__\n",
    "\n",
    "\n",
    "You can submit your homework following these guidelines: [DM2025-Lab1-announcement](https://github.com/leoson-wu/DM2025-Lab1-Announcement/blob/main/README.md). Make sure to commit and save your changes to your repository __BEFORE the deadline (October 19th 11:59 pm, Sunday)__. "
   ]
  },
  {
   "cell_type": "markdown",
   "metadata": {},
   "source": [
    "# Phase 1"
   ]
  },
  {
   "cell_type": "code",
   "execution_count": 1,
   "metadata": {},
   "outputs": [],
   "source": [
    "### import 所需套件\n",
    "import math\n",
    "import pandas as pd\n",
    "import numpy as np\n",
    "import plotly as py\n",
    "import seaborn as sns\n",
    "import plotly.express as px\n",
    "import matplotlib.pyplot as plt\n",
    "from sklearn.feature_extraction.text import CountVectorizer\n",
    "import helpers.data_mining_helpers as dmh"
   ]
  },
  {
   "cell_type": "code",
   "execution_count": 2,
   "metadata": {},
   "outputs": [
    {
     "name": "stdout",
     "output_type": "stream",
     "text": [
      "      type             datetime  post_id       subreddit\n",
      "0  comment  2025-04-11 17:29:56  mmli62w  wallstreetbets\n",
      "1  comment   2025-04-12 1:12:19  mmnu7v9  wallstreetbets\n"
     ]
    }
   ],
   "source": [
    "# 導入資料集\n",
    "df = pd.read_csv('newdataset\\Reddit-stock-sentiment.csv')\n",
    "# 嘗試印出\n",
    "print(df.iloc[0:2, 0:4])"
   ]
  },
  {
   "cell_type": "code",
   "execution_count": 3,
   "metadata": {},
   "outputs": [
    {
     "name": "stdout",
     "output_type": "stream",
     "text": [
      "847\n"
     ]
    }
   ],
   "source": [
    "# 查看資料長度\n",
    "print(len(df))"
   ]
  },
  {
   "cell_type": "code",
   "execution_count": 4,
   "metadata": {},
   "outputs": [
    {
     "name": "stdout",
     "output_type": "stream",
     "text": [
      "['type', 'datetime', 'post_id', 'subreddit', 'title', 'author', 'url', 'upvotes', 'downvotes', 'upvote_ratio', 'text', 'subjectivity', 'polarity', 'sentiment', 'entities', 'label']\n"
     ]
    }
   ],
   "source": [
    "# 列出所有欄位名稱\n",
    "print(df.columns.tolist())"
   ]
  },
  {
   "cell_type": "markdown",
   "metadata": {},
   "source": [
    "### **>>> Exercise 1:**  印出前三筆資料的 text 欄位"
   ]
  },
  {
   "cell_type": "code",
   "execution_count": 5,
   "metadata": {},
   "outputs": [
    {
     "name": "stdout",
     "output_type": "stream",
     "text": [
      "example 1\n",
      "Calls on retards\n",
      "example 2\n",
      "Stunt as in like why did they even make a big deal about starting it in the first place? No company should ever talk about politics ever.\n",
      "example 3\n",
      "Seeing lots of red in the ticker.\n"
     ]
    }
   ],
   "source": [
    "# print out the *text* data for the first three samples in the dataset\n",
    "for i in range(3):\n",
    "    print(f'example {i+1}')\n",
    "    print(df.text[i])"
   ]
  },
  {
   "cell_type": "markdown",
   "metadata": {},
   "source": [
    "### **>>> Exercise 2:**  其他查詢技巧\n"
   ]
  },
  {
   "cell_type": "code",
   "execution_count": 6,
   "metadata": {},
   "outputs": [
    {
     "data": {
      "text/html": [
       "<div>\n",
       "<style scoped>\n",
       "    .dataframe tbody tr th:only-of-type {\n",
       "        vertical-align: middle;\n",
       "    }\n",
       "\n",
       "    .dataframe tbody tr th {\n",
       "        vertical-align: top;\n",
       "    }\n",
       "\n",
       "    .dataframe thead th {\n",
       "        text-align: right;\n",
       "    }\n",
       "</style>\n",
       "<table border=\"1\" class=\"dataframe\">\n",
       "  <thead>\n",
       "    <tr style=\"text-align: right;\">\n",
       "      <th></th>\n",
       "      <th>title</th>\n",
       "      <th>author</th>\n",
       "      <th>type</th>\n",
       "    </tr>\n",
       "  </thead>\n",
       "  <tbody>\n",
       "    <tr>\n",
       "      <th>0</th>\n",
       "      <td>Retardation is on the menu boys! WSB is so back</td>\n",
       "      <td>StickyTip420</td>\n",
       "      <td>comment</td>\n",
       "    </tr>\n",
       "    <tr>\n",
       "      <th>3</th>\n",
       "      <td>Who knows more? $VMAR</td>\n",
       "      <td>emiljenfn</td>\n",
       "      <td>post</td>\n",
       "    </tr>\n",
       "    <tr>\n",
       "      <th>6</th>\n",
       "      <td>Is the market in complete denial right now?</td>\n",
       "      <td>stoniey84</td>\n",
       "      <td>comment</td>\n",
       "    </tr>\n",
       "    <tr>\n",
       "      <th>9</th>\n",
       "      <td>Any cheap stocks under $10?</td>\n",
       "      <td>Zumuru</td>\n",
       "      <td>comment</td>\n",
       "    </tr>\n",
       "    <tr>\n",
       "      <th>12</th>\n",
       "      <td>U.S. 10-year Treasury yields rise as Trump tar...</td>\n",
       "      <td>JBallMan23</td>\n",
       "      <td>comment</td>\n",
       "    </tr>\n",
       "    <tr>\n",
       "      <th>15</th>\n",
       "      <td>It's fucking awful seeing the \"Silver\" misinfo...</td>\n",
       "      <td>nerokaeclone</td>\n",
       "      <td>comment</td>\n",
       "    </tr>\n",
       "  </tbody>\n",
       "</table>\n",
       "</div>"
      ],
      "text/plain": [
       "                                                title        author     type\n",
       "0     Retardation is on the menu boys! WSB is so back  StickyTip420  comment\n",
       "3                               Who knows more? $VMAR     emiljenfn     post\n",
       "6         Is the market in complete denial right now?     stoniey84  comment\n",
       "9                         Any cheap stocks under $10?        Zumuru  comment\n",
       "12  U.S. 10-year Treasury yields rise as Trump tar...    JBallMan23  comment\n",
       "15  It's fucking awful seeing the \"Silver\" misinfo...  nerokaeclone  comment"
      ]
     },
     "execution_count": 6,
     "metadata": {},
     "output_type": "execute_result"
    }
   ],
   "source": [
    "# Experiment with other querying techniques\n",
    "df[:16:3][['title','author','type']]"
   ]
  },
  {
   "cell_type": "markdown",
   "metadata": {},
   "source": [
    "### **>>> Exercise 3:**  條件查詢後取前五筆資料\n"
   ]
  },
  {
   "cell_type": "code",
   "execution_count": 7,
   "metadata": {},
   "outputs": [
    {
     "data": {
      "text/html": [
       "<div>\n",
       "<style scoped>\n",
       "    .dataframe tbody tr th:only-of-type {\n",
       "        vertical-align: middle;\n",
       "    }\n",
       "\n",
       "    .dataframe tbody tr th {\n",
       "        vertical-align: top;\n",
       "    }\n",
       "\n",
       "    .dataframe thead th {\n",
       "        text-align: right;\n",
       "    }\n",
       "</style>\n",
       "<table border=\"1\" class=\"dataframe\">\n",
       "  <thead>\n",
       "    <tr style=\"text-align: right;\">\n",
       "      <th></th>\n",
       "      <th>type</th>\n",
       "      <th>datetime</th>\n",
       "      <th>post_id</th>\n",
       "      <th>subreddit</th>\n",
       "      <th>title</th>\n",
       "      <th>author</th>\n",
       "      <th>url</th>\n",
       "      <th>upvotes</th>\n",
       "      <th>downvotes</th>\n",
       "      <th>upvote_ratio</th>\n",
       "      <th>text</th>\n",
       "      <th>subjectivity</th>\n",
       "      <th>polarity</th>\n",
       "      <th>sentiment</th>\n",
       "      <th>entities</th>\n",
       "      <th>label</th>\n",
       "    </tr>\n",
       "  </thead>\n",
       "  <tbody>\n",
       "    <tr>\n",
       "      <th>3</th>\n",
       "      <td>post</td>\n",
       "      <td>2023-08-30 17:12:55</td>\n",
       "      <td>165kllm</td>\n",
       "      <td>stockstobuytoday</td>\n",
       "      <td>Who knows more? $VMAR</td>\n",
       "      <td>emiljenfn</td>\n",
       "      <td>https://www.reddit.com/r/stockstobuytoday/comm...</td>\n",
       "      <td>30</td>\n",
       "      <td>0.0</td>\n",
       "      <td>0.98</td>\n",
       "      <td>Vision Marine Technologies Inc. is rewriting t...</td>\n",
       "      <td>0.64697</td>\n",
       "      <td>0.216383</td>\n",
       "      <td>1.0</td>\n",
       "      <td>['watercraft', 'skill', 'power', ']', 'feat', ...</td>\n",
       "      <td>1.0</td>\n",
       "    </tr>\n",
       "    <tr>\n",
       "      <th>165</th>\n",
       "      <td>post</td>\n",
       "      <td>2025-04-09 14:01:01</td>\n",
       "      <td>1jv6i3y</td>\n",
       "      <td>stockstobuytoday</td>\n",
       "      <td>Established Uptrend</td>\n",
       "      <td>AutoModerator</td>\n",
       "      <td>https://www.reddit.com/r/stockstobuytoday/comm...</td>\n",
       "      <td>1</td>\n",
       "      <td>0.0</td>\n",
       "      <td>1.00</td>\n",
       "      <td>Stock list generated from technical Analysis. ...</td>\n",
       "      <td>0.10000</td>\n",
       "      <td>0.000000</td>\n",
       "      <td>0.0</td>\n",
       "      <td>['SMA', 'ta_rsi_nob60', 'ft=2', 'stockbuyvest....</td>\n",
       "      <td>0.0</td>\n",
       "    </tr>\n",
       "    <tr>\n",
       "      <th>332</th>\n",
       "      <td>post</td>\n",
       "      <td>2025-04-11 18:25:25</td>\n",
       "      <td>1jwwv42</td>\n",
       "      <td>wallstreetbets</td>\n",
       "      <td>$75k+ In Gains (300% YTD)</td>\n",
       "      <td>KatBoss01</td>\n",
       "      <td>https://www.reddit.com/gallery/1jwwv42</td>\n",
       "      <td>5</td>\n",
       "      <td>0.0</td>\n",
       "      <td>1.00</td>\n",
       "      <td>Mostly in MSTR calls, AAPL puts and GBTC long.</td>\n",
       "      <td>0.45000</td>\n",
       "      <td>0.225000</td>\n",
       "      <td>1.0</td>\n",
       "      <td>['GBTC', 'MSTR', 'AAPL']</td>\n",
       "      <td>1.0</td>\n",
       "    </tr>\n",
       "    <tr>\n",
       "      <th>421</th>\n",
       "      <td>post</td>\n",
       "      <td>2025-03-31 14:05:30</td>\n",
       "      <td>1jo3zpc</td>\n",
       "      <td>stockstobuytoday</td>\n",
       "      <td>Stock Gainers for Today</td>\n",
       "      <td>saasfin</td>\n",
       "      <td>https://www.reddit.com/r/stockstobuytoday/comm...</td>\n",
       "      <td>1</td>\n",
       "      <td>0.0</td>\n",
       "      <td>1.00</td>\n",
       "      <td>Stocks that are trending up today\\r\\n\\r\\n [Pop...</td>\n",
       "      <td>0.00000</td>\n",
       "      <td>0.000000</td>\n",
       "      <td>0.0</td>\n",
       "      <td>[']', 'Popping', 'stockbuyvest.com', 'today']</td>\n",
       "      <td>0.0</td>\n",
       "    </tr>\n",
       "    <tr>\n",
       "      <th>487</th>\n",
       "      <td>post</td>\n",
       "      <td>2021-12-25 0:40:59</td>\n",
       "      <td>rnypxo</td>\n",
       "      <td>stockstobuytoday</td>\n",
       "      <td>Deep value vs Dividend!</td>\n",
       "      <td>AnonymusFarmer</td>\n",
       "      <td>https://www.reddit.com/r/stockstobuytoday/comm...</td>\n",
       "      <td>9</td>\n",
       "      <td>0.0</td>\n",
       "      <td>0.91</td>\n",
       "      <td>Good Morning Investors, \\r\\n\\r\\nI am a young F...</td>\n",
       "      <td>0.41903</td>\n",
       "      <td>0.119152</td>\n",
       "      <td>1.0</td>\n",
       "      <td>['student', 'someone', 'x200B', 'dividend', 'w...</td>\n",
       "      <td>0.0</td>\n",
       "    </tr>\n",
       "  </tbody>\n",
       "</table>\n",
       "</div>"
      ],
      "text/plain": [
       "     type             datetime  post_id         subreddit  \\\n",
       "3    post  2023-08-30 17:12:55  165kllm  stockstobuytoday   \n",
       "165  post  2025-04-09 14:01:01  1jv6i3y  stockstobuytoday   \n",
       "332  post  2025-04-11 18:25:25  1jwwv42    wallstreetbets   \n",
       "421  post  2025-03-31 14:05:30  1jo3zpc  stockstobuytoday   \n",
       "487  post   2021-12-25 0:40:59   rnypxo  stockstobuytoday   \n",
       "\n",
       "                         title          author  \\\n",
       "3        Who knows more? $VMAR       emiljenfn   \n",
       "165        Established Uptrend   AutoModerator   \n",
       "332  $75k+ In Gains (300% YTD)       KatBoss01   \n",
       "421    Stock Gainers for Today         saasfin   \n",
       "487    Deep value vs Dividend!  AnonymusFarmer   \n",
       "\n",
       "                                                   url  upvotes  downvotes  \\\n",
       "3    https://www.reddit.com/r/stockstobuytoday/comm...       30        0.0   \n",
       "165  https://www.reddit.com/r/stockstobuytoday/comm...        1        0.0   \n",
       "332             https://www.reddit.com/gallery/1jwwv42        5        0.0   \n",
       "421  https://www.reddit.com/r/stockstobuytoday/comm...        1        0.0   \n",
       "487  https://www.reddit.com/r/stockstobuytoday/comm...        9        0.0   \n",
       "\n",
       "     upvote_ratio                                               text  \\\n",
       "3            0.98  Vision Marine Technologies Inc. is rewriting t...   \n",
       "165          1.00  Stock list generated from technical Analysis. ...   \n",
       "332          1.00     Mostly in MSTR calls, AAPL puts and GBTC long.   \n",
       "421          1.00  Stocks that are trending up today\\r\\n\\r\\n [Pop...   \n",
       "487          0.91  Good Morning Investors, \\r\\n\\r\\nI am a young F...   \n",
       "\n",
       "     subjectivity  polarity  sentiment  \\\n",
       "3         0.64697  0.216383        1.0   \n",
       "165       0.10000  0.000000        0.0   \n",
       "332       0.45000  0.225000        1.0   \n",
       "421       0.00000  0.000000        0.0   \n",
       "487       0.41903  0.119152        1.0   \n",
       "\n",
       "                                              entities  label  \n",
       "3    ['watercraft', 'skill', 'power', ']', 'feat', ...    1.0  \n",
       "165  ['SMA', 'ta_rsi_nob60', 'ft=2', 'stockbuyvest....    0.0  \n",
       "332                           ['GBTC', 'MSTR', 'AAPL']    1.0  \n",
       "421      [']', 'Popping', 'stockbuyvest.com', 'today']    0.0  \n",
       "487  ['student', 'someone', 'x200B', 'dividend', 'w...    0.0  "
      ]
     },
     "execution_count": 7,
     "metadata": {},
     "output_type": "execute_result"
    }
   ],
   "source": [
    "# fetch records (type == post), and query every 10th record. Only show the first 5 records.\n",
    "df[df['type'] == 'post'][::10][:5]"
   ]
  },
  {
   "cell_type": "markdown",
   "metadata": {},
   "source": [
    "### **>>> Exercise 4:**  Row 的缺失資料總和\n"
   ]
  },
  {
   "cell_type": "code",
   "execution_count": 8,
   "metadata": {},
   "outputs": [
    {
     "data": {
      "text/plain": [
       "0      (The amoung of missing records is: , 2)\n",
       "1      (The amoung of missing records is: , 2)\n",
       "2      (The amoung of missing records is: , 2)\n",
       "3      (The amoung of missing records is: , 0)\n",
       "4      (The amoung of missing records is: , 2)\n",
       "                        ...                   \n",
       "842    (The amoung of missing records is: , 2)\n",
       "843    (The amoung of missing records is: , 2)\n",
       "844    (The amoung of missing records is: , 0)\n",
       "845    (The amoung of missing records is: , 2)\n",
       "846    (The amoung of missing records is: , 2)\n",
       "Length: 847, dtype: object"
      ]
     },
     "execution_count": 8,
     "metadata": {},
     "output_type": "execute_result"
    }
   ],
   "source": [
    "# calculate the missing values in every record instead of every column\n",
    "df.isnull().apply(lambda x: dmh.check_missing_values(x), axis=1)"
   ]
  },
  {
   "cell_type": "markdown",
   "metadata": {},
   "source": [
    "### **>>> Exercise 5:**  explain why `.isnull()` didn't work (Can skip)\n"
   ]
  },
  {
   "cell_type": "markdown",
   "metadata": {},
   "source": [
    "### **>>> Exercise 6:**  對資料集抽樣\n"
   ]
  },
  {
   "cell_type": "code",
   "execution_count": 9,
   "metadata": {},
   "outputs": [
    {
     "data": {
      "text/html": [
       "<div>\n",
       "<style scoped>\n",
       "    .dataframe tbody tr th:only-of-type {\n",
       "        vertical-align: middle;\n",
       "    }\n",
       "\n",
       "    .dataframe tbody tr th {\n",
       "        vertical-align: top;\n",
       "    }\n",
       "\n",
       "    .dataframe thead th {\n",
       "        text-align: right;\n",
       "    }\n",
       "</style>\n",
       "<table border=\"1\" class=\"dataframe\">\n",
       "  <thead>\n",
       "    <tr style=\"text-align: right;\">\n",
       "      <th></th>\n",
       "      <th>type</th>\n",
       "      <th>datetime</th>\n",
       "      <th>post_id</th>\n",
       "      <th>subreddit</th>\n",
       "      <th>title</th>\n",
       "      <th>author</th>\n",
       "      <th>url</th>\n",
       "      <th>upvotes</th>\n",
       "      <th>downvotes</th>\n",
       "      <th>upvote_ratio</th>\n",
       "      <th>text</th>\n",
       "      <th>subjectivity</th>\n",
       "      <th>polarity</th>\n",
       "      <th>sentiment</th>\n",
       "      <th>entities</th>\n",
       "      <th>label</th>\n",
       "    </tr>\n",
       "  </thead>\n",
       "  <tbody>\n",
       "    <tr>\n",
       "      <th>0</th>\n",
       "      <td>comment</td>\n",
       "      <td>2025-04-11 17:29:56</td>\n",
       "      <td>mmli62w</td>\n",
       "      <td>wallstreetbets</td>\n",
       "      <td>Retardation is on the menu boys! WSB is so back</td>\n",
       "      <td>StickyTip420</td>\n",
       "      <td>https://i.redd.it/0yq2ftren8ue1.jpeg</td>\n",
       "      <td>0</td>\n",
       "      <td>NaN</td>\n",
       "      <td>NaN</td>\n",
       "      <td>Calls on retards</td>\n",
       "      <td>1.000000</td>\n",
       "      <td>-0.900000</td>\n",
       "      <td>-1.0</td>\n",
       "      <td>[]</td>\n",
       "      <td>-1.0</td>\n",
       "    </tr>\n",
       "    <tr>\n",
       "      <th>1</th>\n",
       "      <td>comment</td>\n",
       "      <td>2025-04-12 1:12:19</td>\n",
       "      <td>mmnu7v9</td>\n",
       "      <td>wallstreetbets</td>\n",
       "      <td>Retail giant TARGET has now declined for 10 co...</td>\n",
       "      <td>Comfortable-Dog-8437</td>\n",
       "      <td>https://i.redd.it/7tl6puv9waue1.jpeg</td>\n",
       "      <td>-15</td>\n",
       "      <td>NaN</td>\n",
       "      <td>NaN</td>\n",
       "      <td>Stunt as in like why did they even make a big ...</td>\n",
       "      <td>0.177778</td>\n",
       "      <td>0.083333</td>\n",
       "      <td>1.0</td>\n",
       "      <td>['Stunt', 'company', 'deal', 'place']</td>\n",
       "      <td>0.0</td>\n",
       "    </tr>\n",
       "    <tr>\n",
       "      <th>4</th>\n",
       "      <td>comment</td>\n",
       "      <td>2025-04-11 14:48:05</td>\n",
       "      <td>mmkl6bw</td>\n",
       "      <td>StockMarket</td>\n",
       "      <td>The Trump administration is begging Xi Jinping...</td>\n",
       "      <td>Just-Big6411</td>\n",
       "      <td>https://edition.cnn.com/2025/04/10/politics/tr...</td>\n",
       "      <td>1</td>\n",
       "      <td>NaN</td>\n",
       "      <td>NaN</td>\n",
       "      <td>He didn’t say thank you.</td>\n",
       "      <td>0.000000</td>\n",
       "      <td>0.000000</td>\n",
       "      <td>0.0</td>\n",
       "      <td>[]</td>\n",
       "      <td>-1.0</td>\n",
       "    </tr>\n",
       "  </tbody>\n",
       "</table>\n",
       "</div>"
      ],
      "text/plain": [
       "      type             datetime  post_id       subreddit  \\\n",
       "0  comment  2025-04-11 17:29:56  mmli62w  wallstreetbets   \n",
       "1  comment   2025-04-12 1:12:19  mmnu7v9  wallstreetbets   \n",
       "4  comment  2025-04-11 14:48:05  mmkl6bw     StockMarket   \n",
       "\n",
       "                                               title                author  \\\n",
       "0    Retardation is on the menu boys! WSB is so back          StickyTip420   \n",
       "1  Retail giant TARGET has now declined for 10 co...  Comfortable-Dog-8437   \n",
       "4  The Trump administration is begging Xi Jinping...          Just-Big6411   \n",
       "\n",
       "                                                 url  upvotes  downvotes  \\\n",
       "0               https://i.redd.it/0yq2ftren8ue1.jpeg        0        NaN   \n",
       "1               https://i.redd.it/7tl6puv9waue1.jpeg      -15        NaN   \n",
       "4  https://edition.cnn.com/2025/04/10/politics/tr...        1        NaN   \n",
       "\n",
       "   upvote_ratio                                               text  \\\n",
       "0           NaN                                   Calls on retards   \n",
       "1           NaN  Stunt as in like why did they even make a big ...   \n",
       "4           NaN                           He didn’t say thank you.   \n",
       "\n",
       "   subjectivity  polarity  sentiment                               entities  \\\n",
       "0      1.000000 -0.900000       -1.0                                     []   \n",
       "1      0.177778  0.083333        1.0  ['Stunt', 'company', 'deal', 'place']   \n",
       "4      0.000000  0.000000        0.0                                     []   \n",
       "\n",
       "   label  \n",
       "0   -1.0  \n",
       "1    0.0  \n",
       "4   -1.0  "
      ]
     },
     "execution_count": 9,
     "metadata": {},
     "output_type": "execute_result"
    }
   ],
   "source": [
    "# Sampling\n",
    "df_sample = df.sample(n=500)\n",
    "df_sample.sort_index()[:3]"
   ]
  },
  {
   "cell_type": "markdown",
   "metadata": {},
   "source": [
    "### **>>> Exercise 7:**  樣本中各個 label 的數目，並畫出長條圖\n"
   ]
  },
  {
   "cell_type": "code",
   "execution_count": 10,
   "metadata": {},
   "outputs": [
    {
     "name": "stdout",
     "output_type": "stream",
     "text": [
      "label\n",
      " 0.0    247\n",
      "-1.0    189\n",
      " 1.0     64\n",
      "Name: count, dtype: int64\n"
     ]
    },
    {
     "data": {
      "text/plain": [
       "<Axes: title={'center': 'Label distribution'}, xlabel='label_str'>"
      ]
     },
     "execution_count": 10,
     "metadata": {},
     "output_type": "execute_result"
    },
    {
     "data": {
      "image/png": "[encoded data removed]",
      "text/plain": [
       "<Figure size 800x300 with 1 Axes>"
      ]
     },
     "metadata": {},
     "output_type": "display_data"
    }
   ],
   "source": [
    "# 建立 label 的對應關係\n",
    "label_map = {\n",
    "    1: 'positive',\n",
    "    0: 'neutral',\n",
    "    -1: 'negative'\n",
    "}\n",
    "df_sample['label_str'] = df_sample['label'].map(label_map)\n",
    "\n",
    "# 計算各 label 的數量\n",
    "print(df_sample.label.value_counts())\n",
    "\n",
    "# 畫圖\n",
    "df_sample.label_str.value_counts().plot(kind = 'bar',\n",
    "                                           title = 'Label distribution',\n",
    "                                           ylim = [0, df_sample.label_str.value_counts().max()+20], \n",
    "                                           rot = 0, fontsize = 12, figsize = (8,3))"
   ]
  },
  {
   "cell_type": "markdown",
   "metadata": {},
   "source": [
    "### **>>> Exercise 8:**  將整個資料集和抽樣的分布畫在一張長條圖上\n"
   ]
  },
  {
   "cell_type": "code",
   "execution_count": 11,
   "metadata": {},
   "outputs": [
    {
     "data": {
      "image/png": "[encoded data removed]",
      "text/plain": [
       "<Figure size 600x400 with 1 Axes>"
      ]
     },
     "metadata": {},
     "output_type": "display_data"
    }
   ],
   "source": [
    "# 分別計算數量\n",
    "df_counts = df['label'].value_counts()\n",
    "df_sample_counts = df_sample['label'].value_counts()\n",
    "\n",
    "# 利用 union 合併兩個集合，若有沒有的類別則補 0\n",
    "categories = sorted(set(df_counts.index).union(set(df_sample_counts.index)))\n",
    "df_counts = df_counts.reindex(categories, fill_value=0)\n",
    "df_sample_counts = df_sample_counts.reindex(categories, fill_value=0)\n",
    "\n",
    "# 轉換成 DataFrame\n",
    "compare = pd.DataFrame({\n",
    "    'df': df_counts,\n",
    "    'df_sample': df_sample_counts\n",
    "})\n",
    "\n",
    "# 加總 df 和 df_sample 中的數量，並以總和排序\n",
    "compare['total'] = compare['df'] + compare['df_sample']\n",
    "compare = compare.sort_values(by='total', ascending=False)\n",
    "\n",
    "# 只畫出 df 和 df_sample 不畫出 total\n",
    "compare[['df', 'df_sample']].plot(kind='bar',\n",
    "                                figsize=(6, 4),\n",
    "                                rot=0,\n",
    "                                title='Category Distribution')\n",
    "\n",
    "plt.show()"
   ]
  },
  {
   "cell_type": "markdown",
   "metadata": {},
   "source": [
    "### **>>> Exercise 9:**  建立 document-term matrix，並對第一筆資料測試\n"
   ]
  },
  {
   "cell_type": "code",
   "execution_count": 12,
   "metadata": {},
   "outputs": [
    {
     "name": "stdout",
     "output_type": "stream",
     "text": [
      "第一筆資料的 text 是:  Calls on retards\n",
      "\n",
      "\n",
      "fit transform 結果是:\n",
      "  (np.int32(0), np.int32(692))\t1\n",
      "  (np.int32(0), np.int32(2706))\t1\n",
      "  (np.int32(0), np.int32(3248))\t1\n",
      "\n",
      "\n",
      "使用get_feature_names_out():\n",
      "calls\n",
      "on\n",
      "retards\n",
      "\n",
      "\n",
      "使用 analyzer():\n",
      "['calls', 'on', 'retards']\n"
     ]
    }
   ],
   "source": [
    "# 計算 df.text 的 document-term matrix\n",
    "count_vect = CountVectorizer()\n",
    "df_counts = count_vect.fit_transform(df.text)\n",
    "\n",
    "# 原本 document 1 的 text\n",
    "print(\"第一筆資料的 text 是: \", df.loc[0,'text'])\n",
    "print('\\n')\n",
    "\n",
    "# document1 的計算結果\n",
    "print(\"fit transform 結果是:\")\n",
    "print(df_counts[0])\n",
    "print('\\n')\n",
    "\n",
    "# document1 對應的 token\n",
    "print(\"使用get_feature_names_out():\")\n",
    "print(count_vect.get_feature_names_out()[692])\n",
    "print(count_vect.get_feature_names_out()[2706])\n",
    "print(count_vect.get_feature_names_out()[3248])\n",
    "print('\\n')\n",
    "\n",
    "# 或使用 analyzer()\n",
    "print(\"使用 analyzer():\")\n",
    "analyze = count_vect.build_analyzer()\n",
    "print(analyze(df.text[0]))"
   ]
  },
  {
   "cell_type": "markdown",
   "metadata": {},
   "source": [
    "### **>>> Exercise 10:**  找出 document-term matrix 非零值的 index，並印出對應的詞\n"
   ]
  },
  {
   "cell_type": "code",
   "execution_count": 13,
   "metadata": {},
   "outputs": [
    {
     "data": {
      "text/plain": [
       "array([[0, 0, 0, 0, 0, 0, 0, 0, 0, 0, 0, 0, 0, 0, 0, 0, 0, 0, 0, 0, 0, 0,\n",
       "        0, 0, 0, 0, 0, 0, 0, 0, 0, 0, 0, 0, 0, 0, 0, 0, 0, 0, 0, 0, 0, 0,\n",
       "        0, 0, 0, 0, 0, 0, 0, 0, 0, 0, 0, 0, 0, 0, 0, 0, 0, 0, 0, 0, 0, 0,\n",
       "        0, 0, 0, 0],\n",
       "       [0, 0, 0, 0, 0, 0, 0, 0, 0, 0, 0, 0, 0, 0, 0, 0, 0, 0, 0, 0, 0, 0,\n",
       "        0, 0, 0, 0, 0, 0, 0, 0, 0, 0, 0, 0, 0, 0, 0, 0, 0, 0, 0, 0, 0, 0,\n",
       "        0, 2, 0, 0, 0, 0, 0, 0, 0, 0, 0, 0, 0, 0, 0, 0, 0, 0, 0, 0, 0, 0,\n",
       "        0, 0, 0, 0],\n",
       "       [0, 0, 0, 0, 0, 0, 0, 0, 0, 0, 0, 0, 0, 0, 0, 0, 0, 0, 0, 0, 0, 0,\n",
       "        0, 0, 0, 0, 0, 0, 0, 0, 0, 0, 0, 0, 0, 0, 0, 0, 0, 0, 0, 0, 0, 0,\n",
       "        0, 0, 0, 0, 0, 0, 0, 0, 0, 0, 0, 0, 0, 0, 0, 0, 0, 0, 0, 0, 0, 0,\n",
       "        0, 0, 0, 0],\n",
       "       [0, 0, 0, 0, 0, 0, 0, 0, 0, 0, 0, 0, 0, 0, 0, 0, 0, 0, 0, 0, 0, 0,\n",
       "        0, 0, 0, 0, 0, 0, 0, 0, 0, 0, 0, 0, 0, 0, 0, 0, 0, 0, 0, 0, 0, 0,\n",
       "        0, 4, 0, 0, 0, 0, 0, 0, 0, 0, 0, 0, 0, 0, 0, 0, 0, 0, 0, 0, 0, 1,\n",
       "        1, 1, 0, 0]])"
      ]
     },
     "execution_count": 13,
     "metadata": {},
     "output_type": "execute_result"
    }
   ],
   "source": [
    "# 畫出前四筆資料的部分 document-term matrix\n",
    "df_counts[0:4, 130:200].toarray()"
   ]
  },
  {
   "cell_type": "code",
   "execution_count": 14,
   "metadata": {},
   "outputs": [
    {
     "name": "stdout",
     "output_type": "stream",
     "text": [
      "nonzero index:  [45 65 66 67]\n",
      "about\n",
      "achieved\n",
      "achievement\n",
      "achieves\n"
     ]
    }
   ],
   "source": [
    "# 第四筆資料有多個非零值，找出它們\n",
    "arr = df_counts[3, 130:200].toarray()  # index start from 130\n",
    "row_idx, col_idx = np.where(arr >= 1)\n",
    "print(\"nonzero index: \", col_idx)\n",
    "\n",
    "for i in col_idx:\n",
    "    print(count_vect.get_feature_names_out()[i+130]) # we need to add 130 "
   ]
  },
  {
   "cell_type": "markdown",
   "metadata": {},
   "source": [
    "### **>>> Exercise 11:**  降低矩陣稀疏度，並畫出 heatmap\n"
   ]
  },
  {
   "cell_type": "code",
   "execution_count": 15,
   "metadata": {},
   "outputs": [
    {
     "data": {
      "image/png": "[encoded data removed]",
      "text/plain": [
       "<Figure size 900x700 with 2 Axes>"
      ]
     },
     "metadata": {},
     "output_type": "display_data"
    }
   ],
   "source": [
    "# 找出非零的行、列索引\n",
    "arr = df_counts[0:20, 0:2500].toarray()  \n",
    "row_idx, col_idx = np.where(arr > 0)\n",
    "\n",
    "# 移除重複並保留順序，保留前 20 個\n",
    "unique_col_idx = list(dict.fromkeys(col_idx))\n",
    "unique_col_idx = unique_col_idx[:20]\n",
    "\n",
    "# 設定 x 軸 y 軸\n",
    "plot_x = [\"term_\"+str(i) for i in count_vect.get_feature_names_out()[list(unique_col_idx)]]\n",
    "plot_y = [\"doc_\"+ str(i) for i in list(df.index)[0:20]]\n",
    "# heatmap 中的值\n",
    "plot_z = df_counts[0:20, list(unique_col_idx)].toarray()\n",
    "\n",
    "# 打包成 dataframe\n",
    "df_todraw = pd.DataFrame(plot_z, columns = plot_x, index = plot_y)\n",
    "\n",
    "# 畫圖\n",
    "plt.subplots(figsize=(9, 7))\n",
    "ax = sns.heatmap(df_todraw,\n",
    "                 cmap=\"PuRd\",\n",
    "                 vmin=0, vmax=3, annot=True)"
   ]
  },
  {
   "cell_type": "markdown",
   "metadata": {},
   "source": [
    "### **>>> Exercise 12:**  利用 plotly 畫圖\n"
   ]
  },
  {
   "cell_type": "code",
   "execution_count": 16,
   "metadata": {},
   "outputs": [
    {
     "data": {
      "application/vnd.plotly.v1+json": {
       "config": {
        "plotlyServerURL": "https://plot.ly"
       },
       "data": [
        {
         "hovertemplate": "word=%{x}<br>frequency=%{y}<extra></extra>",
         "legendgroup": "",
         "marker": {
          "color": "#636efa",
          "pattern": {
           "shape": ""
          }
         },
         "name": "",
         "orientation": "v",
         "showlegend": false,
         "textposition": "auto",
         "texttemplate": "%{y:.2s}",
         "type": "bar",
         "x": [
          "00",
          "000",
          "01378",
          "02",
          "027",
          "03",
          "06",
          "08",
          "10",
          "100",
          "1000",
          "10000",
          "100k",
          "100x",
          "10k",
          "10ks",
          "10yr",
          "11",
          "116",
          "118",
          "12",
          "1242",
          "125",
          "12855584",
          "13",
          "14",
          "140",
          "145",
          "14th",
          "15",
          "150",
          "153",
          "15m",
          "16",
          "160",
          "17",
          "1700",
          "1728",
          "17th",
          "18",
          "186",
          "18630",
          "1870",
          "1934",
          "1945",
          "1947",
          "1953",
          "1961",
          "1969",
          "1973",
          "1974",
          "1981",
          "1992",
          "1999",
          "1k",
          "1m",
          "20",
          "200",
          "2007",
          "200k",
          "2011",
          "2012",
          "2017",
          "2021",
          "20211209",
          "2024",
          "2025",
          "2028",
          "2045",
          "208",
          "21",
          "22",
          "22rate",
          "23",
          "234",
          "235",
          "24",
          "25",
          "250",
          "25bps",
          "25k",
          "27",
          "28",
          "296895",
          "2c_books",
          "2c_wiki_recommendations",
          "2fapps",
          "2k",
          "2nd",
          "2s",
          "30",
          "300",
          "3000",
          "31",
          "31224",
          "31225",
          "31f",
          "33",
          "3306",
          "34",
          "35",
          "350",
          "36",
          "3a",
          "3d",
          "3f",
          "3k",
          "3oz8xzgfhartvh99yi",
          "40",
          "401k",
          "404",
          "41",
          "42",
          "4260",
          "4267",
          "4271",
          "4359",
          "45",
          "4500",
          "456",
          "46",
          "4675",
          "47",
          "4900",
          "4d",
          "4m",
          "4th",
          "4x",
          "50",
          "500",
          "5000",
          "50k",
          "50x",
          "52",
          "522",
          "540",
          "55",
          "58",
          "60",
          "600k",
          "6026762",
          "64",
          "65",
          "66",
          "6969",
          "6k",
          "6th",
          "70",
          "75",
          "7500",
          "77",
          "7k",
          "7s",
          "80",
          "81",
          "83",
          "87",
          "8882",
          "8883",
          "89",
          "90",
          "9000",
          "90k",
          "95",
          "97",
          "98",
          "98th",
          "99",
          "9k",
          "_are",
          "_so",
          "aapl",
          "ability",
          "able",
          "abolish",
          "about",
          "above",
          "absolute",
          "absolutely",
          "abuse",
          "abusing",
          "abysmal",
          "accelerate",
          "accept",
          "acceptable",
          "accepted",
          "access",
          "according",
          "account",
          "accretive",
          "acct",
          "accurate",
          "accurately",
          "aces",
          "acgl",
          "achieved",
          "achievement",
          "achieves",
          "achilles",
          "acn",
          "acquires",
          "acquisition",
          "acquisitions",
          "across",
          "act",
          "action",
          "actionable",
          "actions",
          "actively",
          "activity",
          "actors",
          "acts",
          "actual",
          "actually",
          "ad",
          "adausd",
          "add",
          "added",
          "addicted",
          "addicts",
          "adding",
          "addition",
          "additional",
          "addressed",
          "adjacent",
          "adjust",
          "admin",
          "administration",
          "administrations",
          "admins",
          "admit",
          "admitted",
          "adobe",
          "adp",
          "adult",
          "advanced",
          "advantage",
          "adversaries",
          "advertisements",
          "advice",
          "advise",
          "advised",
          "advisor",
          "advisors",
          "advocating",
          "aerc",
          "aerocontractors",
          "affect",
          "affected",
          "affects",
          "afford",
          "afraid",
          "africa",
          "after",
          "afternoon",
          "afterwards",
          "again",
          "against",
          "agane",
          "age",
          "aged",
          "agencies",
          "agenda",
          "agentnlp",
          "aggressively",
          "aggressor",
          "agnew",
          "ago",
          "agolf",
          "agree",
          "agreed",
          "agreement",
          "agriculture",
          "ahead",
          "ai",
          "aid",
          "aimed",
          "aiming",
          "ain",
          "air",
          "aircraft",
          "airline",
          "airlines",
          "airplane",
          "airplanes",
          "aka",
          "aladeen",
          "albeit",
          "alerts",
          "all",
          "allies",
          "allocating",
          "allocation",
          "allowed",
          "allowing",
          "allows",
          "ally",
          "almasria",
          "almost",
          "alone"
         ],
         "xaxis": "x",
         "y": {
          "bdata": "BAYBAQEBAQEVCwEBAQEBAQEFAwEIAQIBAgEBAQEIAgEBAQEBAQECAgEDAQECAQEBAQEBAQEBAQEHAgEBAQEBAgECBgEBAQIEAQMBAQIHAwECAQIBAQEBAQIBCQEBAQEBAQECAQMCAgECAQEBBAEBAQICAQcBAQEBAQEBAQEBAQEMBAQBAQEBAQEBAgEBAgIBAQEBAgIBAgEBAwEBAQECAQUBAQEBAgEBAQEBAwIGAUgEAQMBAQEBAQIBAQEBAQEFAQEBAQEBAQMBAwEDAgEDAQEEAQIFCwEBAQEBAQMCBAEBAwIKAQEBAQEBAQEBAQEHAQEBAwIBAwMCAQEBARsBAQ4HAQEBAQEBAQEBDAEEAQEBAgUBAQECAwIBBgEBAQEBAmEHAQYDAQMCAwYE",
          "dtype": "i1"
         },
         "yaxis": "y"
        }
       ],
       "layout": {
        "barmode": "relative",
        "legend": {
         "tracegroupgap": 0
        },
        "margin": {
         "t": 60
        },
        "template": {
         "data": {
          "bar": [
           {
            "error_x": {
             "color": "#2a3f5f"
            },
            "error_y": {
             "color": "#2a3f5f"
            },
            "marker": {
             "line": {
              "color": "#E5ECF6",
              "width": 0.5
             },
             "pattern": {
              "fillmode": "overlay",
              "size": 10,
              "solidity": 0.2
             }
            },
            "type": "bar"
           }
          ],
          "barpolar": [
           {
            "marker": {
             "line": {
              "color": "#E5ECF6",
              "width": 0.5
             },
             "pattern": {
              "fillmode": "overlay",
              "size": 10,
              "solidity": 0.2
             }
            },
            "type": "barpolar"
           }
          ],
          "carpet": [
           {
            "aaxis": {
             "endlinecolor": "#2a3f5f",
             "gridcolor": "white",
             "linecolor": "white",
             "minorgridcolor": "white",
             "startlinecolor": "#2a3f5f"
            },
            "baxis": {
             "endlinecolor": "#2a3f5f",
             "gridcolor": "white",
             "linecolor": "white",
             "minorgridcolor": "white",
             "startlinecolor": "#2a3f5f"
            },
            "type": "carpet"
           }
          ],
          "choropleth": [
           {
            "colorbar": {
             "outlinewidth": 0,
             "ticks": ""
            },
            "type": "choropleth"
           }
          ],
          "contour": [
           {
            "colorbar": {
             "outlinewidth": 0,
             "ticks": ""
            },
            "colorscale": [
             [
              0,
              "#0d0887"
             ],
             [
              0.1111111111111111,
              "#46039f"
             ],
             [
              0.2222222222222222,
              "#7201a8"
             ],
             [
              0.3333333333333333,
              "#9c179e"
             ],
             [
              0.4444444444444444,
              "#bd3786"
             ],
             [
              0.5555555555555556,
              "#d8576b"
             ],
             [
              0.6666666666666666,
              "#ed7953"
             ],
             [
              0.7777777777777778,
              "#fb9f3a"
             ],
             [
              0.8888888888888888,
              "#fdca26"
             ],
             [
              1,
              "#f0f921"
             ]
            ],
            "type": "contour"
           }
          ],
          "contourcarpet": [
           {
            "colorbar": {
             "outlinewidth": 0,
             "ticks": ""
            },
            "type": "contourcarpet"
           }
          ],
          "heatmap": [
           {
            "colorbar": {
             "outlinewidth": 0,
             "ticks": ""
            },
            "colorscale": [
             [
              0,
              "#0d0887"
             ],
             [
              0.1111111111111111,
              "#46039f"
             ],
             [
              0.2222222222222222,
              "#7201a8"
             ],
             [
              0.3333333333333333,
              "#9c179e"
             ],
             [
              0.4444444444444444,
              "#bd3786"
             ],
             [
              0.5555555555555556,
              "#d8576b"
             ],
             [
              0.6666666666666666,
              "#ed7953"
             ],
             [
              0.7777777777777778,
              "#fb9f3a"
             ],
             [
              0.8888888888888888,
              "#fdca26"
             ],
             [
              1,
              "#f0f921"
             ]
            ],
            "type": "heatmap"
           }
          ],
          "histogram": [
           {
            "marker": {
             "pattern": {
              "fillmode": "overlay",
              "size": 10,
              "solidity": 0.2
             }
            },
            "type": "histogram"
           }
          ],
          "histogram2d": [
           {
            "colorbar": {
             "outlinewidth": 0,
             "ticks": ""
            },
            "colorscale": [
             [
              0,
              "#0d0887"
             ],
             [
              0.1111111111111111,
              "#46039f"
             ],
             [
              0.2222222222222222,
              "#7201a8"
             ],
             [
              0.3333333333333333,
              "#9c179e"
             ],
             [
              0.4444444444444444,
              "#bd3786"
             ],
             [
              0.5555555555555556,
              "#d8576b"
             ],
             [
              0.6666666666666666,
              "#ed7953"
             ],
             [
              0.7777777777777778,
              "#fb9f3a"
             ],
             [
              0.8888888888888888,
              "#fdca26"
             ],
             [
              1,
              "#f0f921"
             ]
            ],
            "type": "histogram2d"
           }
          ],
          "histogram2dcontour": [
           {
            "colorbar": {
             "outlinewidth": 0,
             "ticks": ""
            },
            "colorscale": [
             [
              0,
              "#0d0887"
             ],
             [
              0.1111111111111111,
              "#46039f"
             ],
             [
              0.2222222222222222,
              "#7201a8"
             ],
             [
              0.3333333333333333,
              "#9c179e"
             ],
             [
              0.4444444444444444,
              "#bd3786"
             ],
             [
              0.5555555555555556,
              "#d8576b"
             ],
             [
              0.6666666666666666,
              "#ed7953"
             ],
             [
              0.7777777777777778,
              "#fb9f3a"
             ],
             [
              0.8888888888888888,
              "#fdca26"
             ],
             [
              1,
              "#f0f921"
             ]
            ],
            "type": "histogram2dcontour"
           }
          ],
          "mesh3d": [
           {
            "colorbar": {
             "outlinewidth": 0,
             "ticks": ""
            },
            "type": "mesh3d"
           }
          ],
          "parcoords": [
           {
            "line": {
             "colorbar": {
              "outlinewidth": 0,
              "ticks": ""
             }
            },
            "type": "parcoords"
           }
          ],
          "pie": [
           {
            "automargin": true,
            "type": "pie"
           }
          ],
          "scatter": [
           {
            "fillpattern": {
             "fillmode": "overlay",
             "size": 10,
             "solidity": 0.2
            },
            "type": "scatter"
           }
          ],
          "scatter3d": [
           {
            "line": {
             "colorbar": {
              "outlinewidth": 0,
              "ticks": ""
             }
            },
            "marker": {
             "colorbar": {
              "outlinewidth": 0,
              "ticks": ""
             }
            },
            "type": "scatter3d"
           }
          ],
          "scattercarpet": [
           {
            "marker": {
             "colorbar": {
              "outlinewidth": 0,
              "ticks": ""
             }
            },
            "type": "scattercarpet"
           }
          ],
          "scattergeo": [
           {
            "marker": {
             "colorbar": {
              "outlinewidth": 0,
              "ticks": ""
             }
            },
            "type": "scattergeo"
           }
          ],
          "scattergl": [
           {
            "marker": {
             "colorbar": {
              "outlinewidth": 0,
              "ticks": ""
             }
            },
            "type": "scattergl"
           }
          ],
          "scattermap": [
           {
            "marker": {
             "colorbar": {
              "outlinewidth": 0,
              "ticks": ""
             }
            },
            "type": "scattermap"
           }
          ],
          "scattermapbox": [
           {
            "marker": {
             "colorbar": {
              "outlinewidth": 0,
              "ticks": ""
             }
            },
            "type": "scattermapbox"
           }
          ],
          "scatterpolar": [
           {
            "marker": {
             "colorbar": {
              "outlinewidth": 0,
              "ticks": ""
             }
            },
            "type": "scatterpolar"
           }
          ],
          "scatterpolargl": [
           {
            "marker": {
             "colorbar": {
              "outlinewidth": 0,
              "ticks": ""
             }
            },
            "type": "scatterpolargl"
           }
          ],
          "scatterternary": [
           {
            "marker": {
             "colorbar": {
              "outlinewidth": 0,
              "ticks": ""
             }
            },
            "type": "scatterternary"
           }
          ],
          "surface": [
           {
            "colorbar": {
             "outlinewidth": 0,
             "ticks": ""
            },
            "colorscale": [
             [
              0,
              "#0d0887"
             ],
             [
              0.1111111111111111,
              "#46039f"
             ],
             [
              0.2222222222222222,
              "#7201a8"
             ],
             [
              0.3333333333333333,
              "#9c179e"
             ],
             [
              0.4444444444444444,
              "#bd3786"
             ],
             [
              0.5555555555555556,
              "#d8576b"
             ],
             [
              0.6666666666666666,
              "#ed7953"
             ],
             [
              0.7777777777777778,
              "#fb9f3a"
             ],
             [
              0.8888888888888888,
              "#fdca26"
             ],
             [
              1,
              "#f0f921"
             ]
            ],
            "type": "surface"
           }
          ],
          "table": [
           {
            "cells": {
             "fill": {
              "color": "#EBF0F8"
             },
             "line": {
              "color": "white"
             }
            },
            "header": {
             "fill": {
              "color": "#C8D4E3"
             },
             "line": {
              "color": "white"
             }
            },
            "type": "table"
           }
          ]
         },
         "layout": {
          "annotationdefaults": {
           "arrowcolor": "#2a3f5f",
           "arrowhead": 0,
           "arrowwidth": 1
          },
          "autotypenumbers": "strict",
          "coloraxis": {
           "colorbar": {
            "outlinewidth": 0,
            "ticks": ""
           }
          },
          "colorscale": {
           "diverging": [
            [
             0,
             "#8e0152"
            ],
            [
             0.1,
             "#c51b7d"
            ],
            [
             0.2,
             "#de77ae"
            ],
            [
             0.3,
             "#f1b6da"
            ],
            [
             0.4,
             "#fde0ef"
            ],
            [
             0.5,
             "#f7f7f7"
            ],
            [
             0.6,
             "#e6f5d0"
            ],
            [
             0.7,
             "#b8e186"
            ],
            [
             0.8,
             "#7fbc41"
            ],
            [
             0.9,
             "#4d9221"
            ],
            [
             1,
             "#276419"
            ]
           ],
           "sequential": [
            [
             0,
             "#0d0887"
            ],
            [
             0.1111111111111111,
             "#46039f"
            ],
            [
             0.2222222222222222,
             "#7201a8"
            ],
            [
             0.3333333333333333,
             "#9c179e"
            ],
            [
             0.4444444444444444,
             "#bd3786"
            ],
            [
             0.5555555555555556,
             "#d8576b"
            ],
            [
             0.6666666666666666,
             "#ed7953"
            ],
            [
             0.7777777777777778,
             "#fb9f3a"
            ],
            [
             0.8888888888888888,
             "#fdca26"
            ],
            [
             1,
             "#f0f921"
            ]
           ],
           "sequentialminus": [
            [
             0,
             "#0d0887"
            ],
            [
             0.1111111111111111,
             "#46039f"
            ],
            [
             0.2222222222222222,
             "#7201a8"
            ],
            [
             0.3333333333333333,
             "#9c179e"
            ],
            [
             0.4444444444444444,
             "#bd3786"
            ],
            [
             0.5555555555555556,
             "#d8576b"
            ],
            [
             0.6666666666666666,
             "#ed7953"
            ],
            [
             0.7777777777777778,
             "#fb9f3a"
            ],
            [
             0.8888888888888888,
             "#fdca26"
            ],
            [
             1,
             "#f0f921"
            ]
           ]
          },
          "colorway": [
           "#636efa",
           "#EF553B",
           "#00cc96",
           "#ab63fa",
           "#FFA15A",
           "#19d3f3",
           "#FF6692",
           "#B6E880",
           "#FF97FF",
           "#FECB52"
          ],
          "font": {
           "color": "#2a3f5f"
          },
          "geo": {
           "bgcolor": "white",
           "lakecolor": "white",
           "landcolor": "#E5ECF6",
           "showlakes": true,
           "showland": true,
           "subunitcolor": "white"
          },
          "hoverlabel": {
           "align": "left"
          },
          "hovermode": "closest",
          "mapbox": {
           "style": "light"
          },
          "paper_bgcolor": "white",
          "plot_bgcolor": "#E5ECF6",
          "polar": {
           "angularaxis": {
            "gridcolor": "white",
            "linecolor": "white",
            "ticks": ""
           },
           "bgcolor": "#E5ECF6",
           "radialaxis": {
            "gridcolor": "white",
            "linecolor": "white",
            "ticks": ""
           }
          },
          "scene": {
           "xaxis": {
            "backgroundcolor": "#E5ECF6",
            "gridcolor": "white",
            "gridwidth": 2,
            "linecolor": "white",
            "showbackground": true,
            "ticks": "",
            "zerolinecolor": "white"
           },
           "yaxis": {
            "backgroundcolor": "#E5ECF6",
            "gridcolor": "white",
            "gridwidth": 2,
            "linecolor": "white",
            "showbackground": true,
            "ticks": "",
            "zerolinecolor": "white"
           },
           "zaxis": {
            "backgroundcolor": "#E5ECF6",
            "gridcolor": "white",
            "gridwidth": 2,
            "linecolor": "white",
            "showbackground": true,
            "ticks": "",
            "zerolinecolor": "white"
           }
          },
          "shapedefaults": {
           "line": {
            "color": "#2a3f5f"
           }
          },
          "ternary": {
           "aaxis": {
            "gridcolor": "white",
            "linecolor": "white",
            "ticks": ""
           },
           "baxis": {
            "gridcolor": "white",
            "linecolor": "white",
            "ticks": ""
           },
           "bgcolor": "#E5ECF6",
           "caxis": {
            "gridcolor": "white",
            "linecolor": "white",
            "ticks": ""
           }
          },
          "title": {
           "x": 0.05
          },
          "xaxis": {
           "automargin": true,
           "gridcolor": "white",
           "linecolor": "white",
           "ticks": "",
           "title": {
            "standoff": 15
           },
           "zerolinecolor": "white",
           "zerolinewidth": 2
          },
          "yaxis": {
           "automargin": true,
           "gridcolor": "white",
           "linecolor": "white",
           "ticks": "",
           "title": {
            "standoff": 15
           },
           "zerolinecolor": "white",
           "zerolinewidth": 2
          }
         }
        },
        "xaxis": {
         "anchor": "y",
         "domain": [
          0,
          1
         ],
         "title": {
          "text": "word"
         }
        },
        "yaxis": {
         "anchor": "x",
         "domain": [
          0,
          1
         ],
         "title": {
          "text": "frequency"
         }
        }
       }
      }
     },
     "metadata": {},
     "output_type": "display_data"
    }
   ],
   "source": [
    "# 計算在所有文件中前20個字的頻率\n",
    "term_frequencies = np.asarray(df_counts.sum(axis=0))[0]\n",
    "\n",
    "# 打包成 dataframe\n",
    "term_df = pd.DataFrame({\n",
    "    'word': count_vect.get_feature_names_out()[:300],\n",
    "    'frequency': term_frequencies[:300]\n",
    "})\n",
    "\n",
    "# 畫圖\n",
    "fig = px.bar(term_df, y='frequency', x='word', text_auto='.2s')\n",
    "fig.show()"
   ]
  },
  {
   "cell_type": "markdown",
   "metadata": {},
   "source": [
    "### **>>> Exercise 13:**  有效地減少想要視覺化的詞彙數量\n"
   ]
  },
  {
   "cell_type": "code",
   "execution_count": 17,
   "metadata": {},
   "outputs": [
    {
     "data": {
      "application/vnd.plotly.v1+json": {
       "config": {
        "plotlyServerURL": "https://plot.ly"
       },
       "data": [
        {
         "hovertemplate": "word=%{x}<br>frequency=%{y}<extra></extra>",
         "legendgroup": "",
         "marker": {
          "color": "#636efa",
          "pattern": {
           "shape": ""
          }
         },
         "name": "",
         "orientation": "v",
         "showlegend": false,
         "textposition": "auto",
         "texttemplate": "%{y:.2s}",
         "type": "bar",
         "x": [
          "the",
          "to",
          "and",
          "is",
          "it",
          "of",
          "in",
          "that",
          "for",
          "this",
          "you",
          "on",
          "are",
          "they",
          "be",
          "he",
          "will",
          "with",
          "if",
          "as",
          "market",
          "but",
          "not",
          "so",
          "all",
          "have",
          "us",
          "just",
          "was",
          "at"
         ],
         "xaxis": "x",
         "y": {
          "bdata": "mAM2AugBkgFeATcBHgHuANYA1QDDAKsAmwCWAIYAhAB/AH4AdwBzAG8AbABrAGcAYQBhAGAAXwBeAFwA",
          "dtype": "i2"
         },
         "yaxis": "y"
        }
       ],
       "layout": {
        "barmode": "relative",
        "legend": {
         "tracegroupgap": 0
        },
        "margin": {
         "t": 60
        },
        "template": {
         "data": {
          "bar": [
           {
            "error_x": {
             "color": "#2a3f5f"
            },
            "error_y": {
             "color": "#2a3f5f"
            },
            "marker": {
             "line": {
              "color": "#E5ECF6",
              "width": 0.5
             },
             "pattern": {
              "fillmode": "overlay",
              "size": 10,
              "solidity": 0.2
             }
            },
            "type": "bar"
           }
          ],
          "barpolar": [
           {
            "marker": {
             "line": {
              "color": "#E5ECF6",
              "width": 0.5
             },
             "pattern": {
              "fillmode": "overlay",
              "size": 10,
              "solidity": 0.2
             }
            },
            "type": "barpolar"
           }
          ],
          "carpet": [
           {
            "aaxis": {
             "endlinecolor": "#2a3f5f",
             "gridcolor": "white",
             "linecolor": "white",
             "minorgridcolor": "white",
             "startlinecolor": "#2a3f5f"
            },
            "baxis": {
             "endlinecolor": "#2a3f5f",
             "gridcolor": "white",
             "linecolor": "white",
             "minorgridcolor": "white",
             "startlinecolor": "#2a3f5f"
            },
            "type": "carpet"
           }
          ],
          "choropleth": [
           {
            "colorbar": {
             "outlinewidth": 0,
             "ticks": ""
            },
            "type": "choropleth"
           }
          ],
          "contour": [
           {
            "colorbar": {
             "outlinewidth": 0,
             "ticks": ""
            },
            "colorscale": [
             [
              0,
              "#0d0887"
             ],
             [
              0.1111111111111111,
              "#46039f"
             ],
             [
              0.2222222222222222,
              "#7201a8"
             ],
             [
              0.3333333333333333,
              "#9c179e"
             ],
             [
              0.4444444444444444,
              "#bd3786"
             ],
             [
              0.5555555555555556,
              "#d8576b"
             ],
             [
              0.6666666666666666,
              "#ed7953"
             ],
             [
              0.7777777777777778,
              "#fb9f3a"
             ],
             [
              0.8888888888888888,
              "#fdca26"
             ],
             [
              1,
              "#f0f921"
             ]
            ],
            "type": "contour"
           }
          ],
          "contourcarpet": [
           {
            "colorbar": {
             "outlinewidth": 0,
             "ticks": ""
            },
            "type": "contourcarpet"
           }
          ],
          "heatmap": [
           {
            "colorbar": {
             "outlinewidth": 0,
             "ticks": ""
            },
            "colorscale": [
             [
              0,
              "#0d0887"
             ],
             [
              0.1111111111111111,
              "#46039f"
             ],
             [
              0.2222222222222222,
              "#7201a8"
             ],
             [
              0.3333333333333333,
              "#9c179e"
             ],
             [
              0.4444444444444444,
              "#bd3786"
             ],
             [
              0.5555555555555556,
              "#d8576b"
             ],
             [
              0.6666666666666666,
              "#ed7953"
             ],
             [
              0.7777777777777778,
              "#fb9f3a"
             ],
             [
              0.8888888888888888,
              "#fdca26"
             ],
             [
              1,
              "#f0f921"
             ]
            ],
            "type": "heatmap"
           }
          ],
          "histogram": [
           {
            "marker": {
             "pattern": {
              "fillmode": "overlay",
              "size": 10,
              "solidity": 0.2
             }
            },
            "type": "histogram"
           }
          ],
          "histogram2d": [
           {
            "colorbar": {
             "outlinewidth": 0,
             "ticks": ""
            },
            "colorscale": [
             [
              0,
              "#0d0887"
             ],
             [
              0.1111111111111111,
              "#46039f"
             ],
             [
              0.2222222222222222,
              "#7201a8"
             ],
             [
              0.3333333333333333,
              "#9c179e"
             ],
             [
              0.4444444444444444,
              "#bd3786"
             ],
             [
              0.5555555555555556,
              "#d8576b"
             ],
             [
              0.6666666666666666,
              "#ed7953"
             ],
             [
              0.7777777777777778,
              "#fb9f3a"
             ],
             [
              0.8888888888888888,
              "#fdca26"
             ],
             [
              1,
              "#f0f921"
             ]
            ],
            "type": "histogram2d"
           }
          ],
          "histogram2dcontour": [
           {
            "colorbar": {
             "outlinewidth": 0,
             "ticks": ""
            },
            "colorscale": [
             [
              0,
              "#0d0887"
             ],
             [
              0.1111111111111111,
              "#46039f"
             ],
             [
              0.2222222222222222,
              "#7201a8"
             ],
             [
              0.3333333333333333,
              "#9c179e"
             ],
             [
              0.4444444444444444,
              "#bd3786"
             ],
             [
              0.5555555555555556,
              "#d8576b"
             ],
             [
              0.6666666666666666,
              "#ed7953"
             ],
             [
              0.7777777777777778,
              "#fb9f3a"
             ],
             [
              0.8888888888888888,
              "#fdca26"
             ],
             [
              1,
              "#f0f921"
             ]
            ],
            "type": "histogram2dcontour"
           }
          ],
          "mesh3d": [
           {
            "colorbar": {
             "outlinewidth": 0,
             "ticks": ""
            },
            "type": "mesh3d"
           }
          ],
          "parcoords": [
           {
            "line": {
             "colorbar": {
              "outlinewidth": 0,
              "ticks": ""
             }
            },
            "type": "parcoords"
           }
          ],
          "pie": [
           {
            "automargin": true,
            "type": "pie"
           }
          ],
          "scatter": [
           {
            "fillpattern": {
             "fillmode": "overlay",
             "size": 10,
             "solidity": 0.2
            },
            "type": "scatter"
           }
          ],
          "scatter3d": [
           {
            "line": {
             "colorbar": {
              "outlinewidth": 0,
              "ticks": ""
             }
            },
            "marker": {
             "colorbar": {
              "outlinewidth": 0,
              "ticks": ""
             }
            },
            "type": "scatter3d"
           }
          ],
          "scattercarpet": [
           {
            "marker": {
             "colorbar": {
              "outlinewidth": 0,
              "ticks": ""
             }
            },
            "type": "scattercarpet"
           }
          ],
          "scattergeo": [
           {
            "marker": {
             "colorbar": {
              "outlinewidth": 0,
              "ticks": ""
             }
            },
            "type": "scattergeo"
           }
          ],
          "scattergl": [
           {
            "marker": {
             "colorbar": {
              "outlinewidth": 0,
              "ticks": ""
             }
            },
            "type": "scattergl"
           }
          ],
          "scattermap": [
           {
            "marker": {
             "colorbar": {
              "outlinewidth": 0,
              "ticks": ""
             }
            },
            "type": "scattermap"
           }
          ],
          "scattermapbox": [
           {
            "marker": {
             "colorbar": {
              "outlinewidth": 0,
              "ticks": ""
             }
            },
            "type": "scattermapbox"
           }
          ],
          "scatterpolar": [
           {
            "marker": {
             "colorbar": {
              "outlinewidth": 0,
              "ticks": ""
             }
            },
            "type": "scatterpolar"
           }
          ],
          "scatterpolargl": [
           {
            "marker": {
             "colorbar": {
              "outlinewidth": 0,
              "ticks": ""
             }
            },
            "type": "scatterpolargl"
           }
          ],
          "scatterternary": [
           {
            "marker": {
             "colorbar": {
              "outlinewidth": 0,
              "ticks": ""
             }
            },
            "type": "scatterternary"
           }
          ],
          "surface": [
           {
            "colorbar": {
             "outlinewidth": 0,
             "ticks": ""
            },
            "colorscale": [
             [
              0,
              "#0d0887"
             ],
             [
              0.1111111111111111,
              "#46039f"
             ],
             [
              0.2222222222222222,
              "#7201a8"
             ],
             [
              0.3333333333333333,
              "#9c179e"
             ],
             [
              0.4444444444444444,
              "#bd3786"
             ],
             [
              0.5555555555555556,
              "#d8576b"
             ],
             [
              0.6666666666666666,
              "#ed7953"
             ],
             [
              0.7777777777777778,
              "#fb9f3a"
             ],
             [
              0.8888888888888888,
              "#fdca26"
             ],
             [
              1,
              "#f0f921"
             ]
            ],
            "type": "surface"
           }
          ],
          "table": [
           {
            "cells": {
             "fill": {
              "color": "#EBF0F8"
             },
             "line": {
              "color": "white"
             }
            },
            "header": {
             "fill": {
              "color": "#C8D4E3"
             },
             "line": {
              "color": "white"
             }
            },
            "type": "table"
           }
          ]
         },
         "layout": {
          "annotationdefaults": {
           "arrowcolor": "#2a3f5f",
           "arrowhead": 0,
           "arrowwidth": 1
          },
          "autotypenumbers": "strict",
          "coloraxis": {
           "colorbar": {
            "outlinewidth": 0,
            "ticks": ""
           }
          },
          "colorscale": {
           "diverging": [
            [
             0,
             "#8e0152"
            ],
            [
             0.1,
             "#c51b7d"
            ],
            [
             0.2,
             "#de77ae"
            ],
            [
             0.3,
             "#f1b6da"
            ],
            [
             0.4,
             "#fde0ef"
            ],
            [
             0.5,
             "#f7f7f7"
            ],
            [
             0.6,
             "#e6f5d0"
            ],
            [
             0.7,
             "#b8e186"
            ],
            [
             0.8,
             "#7fbc41"
            ],
            [
             0.9,
             "#4d9221"
            ],
            [
             1,
             "#276419"
            ]
           ],
           "sequential": [
            [
             0,
             "#0d0887"
            ],
            [
             0.1111111111111111,
             "#46039f"
            ],
            [
             0.2222222222222222,
             "#7201a8"
            ],
            [
             0.3333333333333333,
             "#9c179e"
            ],
            [
             0.4444444444444444,
             "#bd3786"
            ],
            [
             0.5555555555555556,
             "#d8576b"
            ],
            [
             0.6666666666666666,
             "#ed7953"
            ],
            [
             0.7777777777777778,
             "#fb9f3a"
            ],
            [
             0.8888888888888888,
             "#fdca26"
            ],
            [
             1,
             "#f0f921"
            ]
           ],
           "sequentialminus": [
            [
             0,
             "#0d0887"
            ],
            [
             0.1111111111111111,
             "#46039f"
            ],
            [
             0.2222222222222222,
             "#7201a8"
            ],
            [
             0.3333333333333333,
             "#9c179e"
            ],
            [
             0.4444444444444444,
             "#bd3786"
            ],
            [
             0.5555555555555556,
             "#d8576b"
            ],
            [
             0.6666666666666666,
             "#ed7953"
            ],
            [
             0.7777777777777778,
             "#fb9f3a"
            ],
            [
             0.8888888888888888,
             "#fdca26"
            ],
            [
             1,
             "#f0f921"
            ]
           ]
          },
          "colorway": [
           "#636efa",
           "#EF553B",
           "#00cc96",
           "#ab63fa",
           "#FFA15A",
           "#19d3f3",
           "#FF6692",
           "#B6E880",
           "#FF97FF",
           "#FECB52"
          ],
          "font": {
           "color": "#2a3f5f"
          },
          "geo": {
           "bgcolor": "white",
           "lakecolor": "white",
           "landcolor": "#E5ECF6",
           "showlakes": true,
           "showland": true,
           "subunitcolor": "white"
          },
          "hoverlabel": {
           "align": "left"
          },
          "hovermode": "closest",
          "mapbox": {
           "style": "light"
          },
          "paper_bgcolor": "white",
          "plot_bgcolor": "#E5ECF6",
          "polar": {
           "angularaxis": {
            "gridcolor": "white",
            "linecolor": "white",
            "ticks": ""
           },
           "bgcolor": "#E5ECF6",
           "radialaxis": {
            "gridcolor": "white",
            "linecolor": "white",
            "ticks": ""
           }
          },
          "scene": {
           "xaxis": {
            "backgroundcolor": "#E5ECF6",
            "gridcolor": "white",
            "gridwidth": 2,
            "linecolor": "white",
            "showbackground": true,
            "ticks": "",
            "zerolinecolor": "white"
           },
           "yaxis": {
            "backgroundcolor": "#E5ECF6",
            "gridcolor": "white",
            "gridwidth": 2,
            "linecolor": "white",
            "showbackground": true,
            "ticks": "",
            "zerolinecolor": "white"
           },
           "zaxis": {
            "backgroundcolor": "#E5ECF6",
            "gridcolor": "white",
            "gridwidth": 2,
            "linecolor": "white",
            "showbackground": true,
            "ticks": "",
            "zerolinecolor": "white"
           }
          },
          "shapedefaults": {
           "line": {
            "color": "#2a3f5f"
           }
          },
          "ternary": {
           "aaxis": {
            "gridcolor": "white",
            "linecolor": "white",
            "ticks": ""
           },
           "baxis": {
            "gridcolor": "white",
            "linecolor": "white",
            "ticks": ""
           },
           "bgcolor": "#E5ECF6",
           "caxis": {
            "gridcolor": "white",
            "linecolor": "white",
            "ticks": ""
           }
          },
          "title": {
           "x": 0.05
          },
          "xaxis": {
           "automargin": true,
           "gridcolor": "white",
           "linecolor": "white",
           "ticks": "",
           "title": {
            "standoff": 15
           },
           "zerolinecolor": "white",
           "zerolinewidth": 2
          },
          "yaxis": {
           "automargin": true,
           "gridcolor": "white",
           "linecolor": "white",
           "ticks": "",
           "title": {
            "standoff": 15
           },
           "zerolinecolor": "white",
           "zerolinewidth": 2
          }
         }
        },
        "xaxis": {
         "anchor": "y",
         "domain": [
          0,
          1
         ],
         "title": {
          "text": "word"
         }
        },
        "yaxis": {
         "anchor": "x",
         "domain": [
          0,
          1
         ],
         "title": {
          "text": "frequency"
         }
        }
       }
      }
     },
     "metadata": {},
     "output_type": "display_data"
    }
   ],
   "source": [
    "# 找出所有文本單字出現頻率最高的 30 個單字\n",
    "\n",
    "# 把單字和頻率打包成 dataframe\n",
    "term_df = pd.DataFrame({\n",
    "    'word': count_vect.get_feature_names_out()[:],\n",
    "    'frequency': term_frequencies[:]\n",
    "})\n",
    "\n",
    "# 按照頻率降序排序，並取出前 30 個\n",
    "sort_df = term_df.sort_values(by='frequency', ascending=False).head(30)\n",
    "\n",
    "# 用 plotly.express \n",
    "fig = px.bar(sort_df, y='frequency', x='word', text_auto='.2s')\n",
    "fig.show()"
   ]
  },
  {
   "cell_type": "markdown",
   "metadata": {},
   "source": [
    "### **>>> Exercise 14:**  依照詞彙頻率排序，畫出長尾圖\n"
   ]
  },
  {
   "cell_type": "code",
   "execution_count": 18,
   "metadata": {},
   "outputs": [
    {
     "data": {
      "application/vnd.plotly.v1+json": {
       "config": {
        "plotlyServerURL": "https://plot.ly"
       },
       "data": [
        {
         "hovertemplate": "word=%{x}<br>frequency=%{y}<extra></extra>",
         "legendgroup": "",
         "marker": {
          "color": "#636efa",
          "pattern": {
           "shape": ""
          }
         },
         "name": "",
         "orientation": "v",
         "showlegend": false,
         "textposition": "auto",
         "texttemplate": "%{y:.2s}",
         "type": "bar",
         "x": [
          "the",
          "to",
          "and",
          "is",
          "it",
          "of",
          "in",
          "that",
          "for",
          "this",
          "you",
          "on",
          "are",
          "they",
          "be",
          "he",
          "will",
          "with",
          "if",
          "as",
          "market",
          "but",
          "not",
          "so",
          "all",
          "have",
          "us",
          "just",
          "was",
          "at",
          "trump",
          "my",
          "what",
          "can",
          "like",
          "or",
          "we",
          "has",
          "their",
          "china",
          "about",
          "more",
          "from",
          "there",
          "now",
          "no",
          "by",
          "re",
          "how",
          "up",
          "one",
          "do",
          "some",
          "even",
          "think",
          "them",
          "people",
          "his",
          "stock",
          "going",
          "your",
          "an",
          "money",
          "good",
          "would",
          "any",
          "out",
          "see",
          "when",
          "who",
          "than",
          "tariffs",
          "only",
          "why",
          "been",
          "get",
          "other",
          "price",
          "time",
          "him",
          "make",
          "want",
          "into",
          "me",
          "don",
          "then",
          "down",
          "over",
          "doing",
          "could",
          "because",
          "futures",
          "silver",
          "right",
          "company",
          "still",
          "x200b",
          "go",
          "day",
          "should",
          "after",
          "years",
          "our",
          "also",
          "economy",
          "here",
          "world",
          "today",
          "much",
          "first",
          "did",
          "stocks",
          "dollar",
          "last",
          "way",
          "really",
          "buy",
          "doesn",
          "too",
          "well",
          "most",
          "were",
          "off",
          "companies",
          "long",
          "know",
          "week",
          "its",
          "does",
          "stockbuyvest",
          "these",
          "com",
          "new",
          "since",
          "year",
          "10",
          "sell",
          "trade",
          "back",
          "everyone",
          "ve",
          "better",
          "ll",
          "bad",
          "which",
          "american",
          "same",
          "every",
          "look",
          "looking",
          "call",
          "xi",
          "already",
          "term",
          "wants",
          "things",
          "emote",
          "img",
          "never",
          "need",
          "t5_2th52",
          "someone",
          "own",
          "fuck",
          "high",
          "say",
          "isn",
          "point",
          "let",
          "many",
          "may",
          "anything",
          "thing",
          "trading",
          "take",
          "selling",
          "before",
          "bond",
          "got",
          "big",
          "investors",
          "seems",
          "where",
          "bonds",
          "literally",
          "president",
          "am",
          "news",
          "had",
          "america",
          "shit",
          "daily",
          "always",
          "hold",
          "end",
          "reason",
          "war",
          "usa",
          "country",
          "higher",
          "invest",
          "feel",
          "future",
          "sure",
          "portfolio",
          "something",
          "nothing",
          "put",
          "didn",
          "again",
          "calls",
          "few",
          "gold",
          "technology",
          "made",
          "next",
          "buying",
          "another",
          "without",
          "worse",
          "pretty",
          "reddit",
          "might",
          "countries",
          "she",
          "anyone",
          "come",
          "everything",
          "chinese",
          "tariff",
          "updated",
          "deal",
          "data",
          "least",
          "great",
          "went",
          "won",
          "happening",
          "lose",
          "lot",
          "please",
          "currently",
          "plan",
          "work",
          "said",
          "else",
          "50",
          "target",
          "real",
          "industry",
          "usd",
          "power",
          "ago",
          "far",
          "puts",
          "lower",
          "done",
          "spy",
          "growth",
          "gonna",
          "moving",
          "rest",
          "risk",
          "getting",
          "100",
          "called",
          "seen",
          "life",
          "star",
          "fed",
          "actually",
          "believe",
          "rates",
          "probably",
          "making",
          "ever",
          "lithium",
          "free",
          "cash",
          "while",
          "very",
          "investment",
          "lol",
          "happen",
          "though",
          "analysis",
          "earnings",
          "short",
          "markets",
          "idea",
          "place",
          "being",
          "help",
          "government",
          "days",
          "haven",
          "maybe",
          "group",
          "those",
          "around",
          "paper",
          "administration",
          "until",
          "use",
          "support",
          "love",
          "thanks",
          "both",
          "note",
          "little",
          "gme",
          "yeah",
          "current",
          "squeeze",
          "trust",
          "part",
          "state",
          "stop",
          "past",
          "likely",
          "lmao",
          "old",
          "stuff",
          "treasuries",
          "powell",
          "potential",
          "used",
          "investing",
          "report",
          "30",
          "prices",
          "water",
          "comes",
          "americans",
          "read",
          "expect",
          "wrong",
          "mean",
          "republican",
          "through",
          "month",
          "graphite",
          "share",
          "weekly",
          "hey",
          "hurt",
          "build",
          "safe",
          "upgrades",
          "cost",
          "line",
          "white",
          "matter",
          "rise",
          "months",
          "electric",
          "show",
          "million",
          "anymore",
          "media",
          "thought",
          "guys",
          "ev",
          "guy",
          "significant",
          "talking",
          "talk",
          "aviation",
          "drop",
          "man",
          "during",
          "makes",
          "using",
          "insider",
          "completely",
          "coming",
          "bought",
          "economic",
          "massive",
          "red",
          "left",
          "oil",
          "started",
          "yields",
          "12",
          "bull",
          "15",
          "face",
          "dividend",
          "expecting",
          "start",
          "debt",
          "highlights",
          "care",
          "yet",
          "goes",
          "system",
          "fucking",
          "hard",
          "sales"
         ],
         "xaxis": "x",
         "y": {
          "bdata": "mAM2AugBkgFeATcBHgHuANYA1QDDAKsAmwCWAIYAhAB/AH4AdwBzAG8AbABrAGcAYQBhAGAAXwBeAFwAXABZAFgAVQBTAFEAUQBMAEgASABIAEMAPwA+AD4APQA6ADkANwA3ADYANQA0ADQANAA0ADMAMwAzADIAMAAvAC4ALgAtAC0ALQArACoAKQApACcAJwAmACUAJQAkACQAJAAkACQAIwAiACIAIgAhACAAIAAgAB8AHgAeAB4AHQAdABwAHAAbABsAGwAbABsAGwAaABoAGgAaABoAGQAZABkAGQAYABgAGAAYABgAGAAXABcAFwAXABcAFwAXABcAFgAWABYAFgAWABYAFgAVABUAFQAVABUAFQAVABQAFAAUABQAFAATABMAEwATABMAEwATABIAEgASABIAEgASABIAEgASABIAEgASABIAEgARABEAEQARABEAEQARABEAEQAQABAAEAAQABAAEAAQABAAEAAQABAAEAAQABAAEAAQAA8ADwAPAA8ADwAPAA8ADwAPAA8ADwAOAA4ADgAOAA4ADgAOAA4ADgAOAA4ADgAOAA4ADQANAA0ADQANAA0ADQANAA0ADQANAA0ADQANAA0ADQANAA0ADAAMAAwADAAMAAwADAAMAAwADAAMAAwADAAMAAwADAAMAAwADAAMAAwADAAMAAwACwALAAsACwALAAsACwALAAsACwALAAsACwALAAsACwALAAsACwALAAsACwALAAsACwALAAoACgAKAAoACgAKAAoACgAKAAoACgAKAAoACgAKAAoACgAKAAoACgAKAAoACgAKAAoACgAJAAkACQAJAAkACQAJAAkACQAJAAkACQAJAAkACQAJAAkACQAJAAkACQAJAAkACQAJAAkACQAJAAkACQAJAAkACQAJAAgACAAIAAgACAAIAAgACAAIAAgACAAIAAgACAAIAAgACAAIAAgACAAIAAgACAAIAAgACAAIAAgACAAIAAgACAAIAAgACAAIAAgACAAIAAgACAAIAAgACAAIAAgACAAIAAgACAAIAAgACAAIAAcABwA=",
          "dtype": "i2"
         },
         "yaxis": "y"
        }
       ],
       "layout": {
        "barmode": "relative",
        "legend": {
         "tracegroupgap": 0
        },
        "margin": {
         "t": 60
        },
        "template": {
         "data": {
          "bar": [
           {
            "error_x": {
             "color": "#2a3f5f"
            },
            "error_y": {
             "color": "#2a3f5f"
            },
            "marker": {
             "line": {
              "color": "#E5ECF6",
              "width": 0.5
             },
             "pattern": {
              "fillmode": "overlay",
              "size": 10,
              "solidity": 0.2
             }
            },
            "type": "bar"
           }
          ],
          "barpolar": [
           {
            "marker": {
             "line": {
              "color": "#E5ECF6",
              "width": 0.5
             },
             "pattern": {
              "fillmode": "overlay",
              "size": 10,
              "solidity": 0.2
             }
            },
            "type": "barpolar"
           }
          ],
          "carpet": [
           {
            "aaxis": {
             "endlinecolor": "#2a3f5f",
             "gridcolor": "white",
             "linecolor": "white",
             "minorgridcolor": "white",
             "startlinecolor": "#2a3f5f"
            },
            "baxis": {
             "endlinecolor": "#2a3f5f",
             "gridcolor": "white",
             "linecolor": "white",
             "minorgridcolor": "white",
             "startlinecolor": "#2a3f5f"
            },
            "type": "carpet"
           }
          ],
          "choropleth": [
           {
            "colorbar": {
             "outlinewidth": 0,
             "ticks": ""
            },
            "type": "choropleth"
           }
          ],
          "contour": [
           {
            "colorbar": {
             "outlinewidth": 0,
             "ticks": ""
            },
            "colorscale": [
             [
              0,
              "#0d0887"
             ],
             [
              0.1111111111111111,
              "#46039f"
             ],
             [
              0.2222222222222222,
              "#7201a8"
             ],
             [
              0.3333333333333333,
              "#9c179e"
             ],
             [
              0.4444444444444444,
              "#bd3786"
             ],
             [
              0.5555555555555556,
              "#d8576b"
             ],
             [
              0.6666666666666666,
              "#ed7953"
             ],
             [
              0.7777777777777778,
              "#fb9f3a"
             ],
             [
              0.8888888888888888,
              "#fdca26"
             ],
             [
              1,
              "#f0f921"
             ]
            ],
            "type": "contour"
           }
          ],
          "contourcarpet": [
           {
            "colorbar": {
             "outlinewidth": 0,
             "ticks": ""
            },
            "type": "contourcarpet"
           }
          ],
          "heatmap": [
           {
            "colorbar": {
             "outlinewidth": 0,
             "ticks": ""
            },
            "colorscale": [
             [
              0,
              "#0d0887"
             ],
             [
              0.1111111111111111,
              "#46039f"
             ],
             [
              0.2222222222222222,
              "#7201a8"
             ],
             [
              0.3333333333333333,
              "#9c179e"
             ],
             [
              0.4444444444444444,
              "#bd3786"
             ],
             [
              0.5555555555555556,
              "#d8576b"
             ],
             [
              0.6666666666666666,
              "#ed7953"
             ],
             [
              0.7777777777777778,
              "#fb9f3a"
             ],
             [
              0.8888888888888888,
              "#fdca26"
             ],
             [
              1,
              "#f0f921"
             ]
            ],
            "type": "heatmap"
           }
          ],
          "histogram": [
           {
            "marker": {
             "pattern": {
              "fillmode": "overlay",
              "size": 10,
              "solidity": 0.2
             }
            },
            "type": "histogram"
           }
          ],
          "histogram2d": [
           {
            "colorbar": {
             "outlinewidth": 0,
             "ticks": ""
            },
            "colorscale": [
             [
              0,
              "#0d0887"
             ],
             [
              0.1111111111111111,
              "#46039f"
             ],
             [
              0.2222222222222222,
              "#7201a8"
             ],
             [
              0.3333333333333333,
              "#9c179e"
             ],
             [
              0.4444444444444444,
              "#bd3786"
             ],
             [
              0.5555555555555556,
              "#d8576b"
             ],
             [
              0.6666666666666666,
              "#ed7953"
             ],
             [
              0.7777777777777778,
              "#fb9f3a"
             ],
             [
              0.8888888888888888,
              "#fdca26"
             ],
             [
              1,
              "#f0f921"
             ]
            ],
            "type": "histogram2d"
           }
          ],
          "histogram2dcontour": [
           {
            "colorbar": {
             "outlinewidth": 0,
             "ticks": ""
            },
            "colorscale": [
             [
              0,
              "#0d0887"
             ],
             [
              0.1111111111111111,
              "#46039f"
             ],
             [
              0.2222222222222222,
              "#7201a8"
             ],
             [
              0.3333333333333333,
              "#9c179e"
             ],
             [
              0.4444444444444444,
              "#bd3786"
             ],
             [
              0.5555555555555556,
              "#d8576b"
             ],
             [
              0.6666666666666666,
              "#ed7953"
             ],
             [
              0.7777777777777778,
              "#fb9f3a"
             ],
             [
              0.8888888888888888,
              "#fdca26"
             ],
             [
              1,
              "#f0f921"
             ]
            ],
            "type": "histogram2dcontour"
           }
          ],
          "mesh3d": [
           {
            "colorbar": {
             "outlinewidth": 0,
             "ticks": ""
            },
            "type": "mesh3d"
           }
          ],
          "parcoords": [
           {
            "line": {
             "colorbar": {
              "outlinewidth": 0,
              "ticks": ""
             }
            },
            "type": "parcoords"
           }
          ],
          "pie": [
           {
            "automargin": true,
            "type": "pie"
           }
          ],
          "scatter": [
           {
            "fillpattern": {
             "fillmode": "overlay",
             "size": 10,
             "solidity": 0.2
            },
            "type": "scatter"
           }
          ],
          "scatter3d": [
           {
            "line": {
             "colorbar": {
              "outlinewidth": 0,
              "ticks": ""
             }
            },
            "marker": {
             "colorbar": {
              "outlinewidth": 0,
              "ticks": ""
             }
            },
            "type": "scatter3d"
           }
          ],
          "scattercarpet": [
           {
            "marker": {
             "colorbar": {
              "outlinewidth": 0,
              "ticks": ""
             }
            },
            "type": "scattercarpet"
           }
          ],
          "scattergeo": [
           {
            "marker": {
             "colorbar": {
              "outlinewidth": 0,
              "ticks": ""
             }
            },
            "type": "scattergeo"
           }
          ],
          "scattergl": [
           {
            "marker": {
             "colorbar": {
              "outlinewidth": 0,
              "ticks": ""
             }
            },
            "type": "scattergl"
           }
          ],
          "scattermap": [
           {
            "marker": {
             "colorbar": {
              "outlinewidth": 0,
              "ticks": ""
             }
            },
            "type": "scattermap"
           }
          ],
          "scattermapbox": [
           {
            "marker": {
             "colorbar": {
              "outlinewidth": 0,
              "ticks": ""
             }
            },
            "type": "scattermapbox"
           }
          ],
          "scatterpolar": [
           {
            "marker": {
             "colorbar": {
              "outlinewidth": 0,
              "ticks": ""
             }
            },
            "type": "scatterpolar"
           }
          ],
          "scatterpolargl": [
           {
            "marker": {
             "colorbar": {
              "outlinewidth": 0,
              "ticks": ""
             }
            },
            "type": "scatterpolargl"
           }
          ],
          "scatterternary": [
           {
            "marker": {
             "colorbar": {
              "outlinewidth": 0,
              "ticks": ""
             }
            },
            "type": "scatterternary"
           }
          ],
          "surface": [
           {
            "colorbar": {
             "outlinewidth": 0,
             "ticks": ""
            },
            "colorscale": [
             [
              0,
              "#0d0887"
             ],
             [
              0.1111111111111111,
              "#46039f"
             ],
             [
              0.2222222222222222,
              "#7201a8"
             ],
             [
              0.3333333333333333,
              "#9c179e"
             ],
             [
              0.4444444444444444,
              "#bd3786"
             ],
             [
              0.5555555555555556,
              "#d8576b"
             ],
             [
              0.6666666666666666,
              "#ed7953"
             ],
             [
              0.7777777777777778,
              "#fb9f3a"
             ],
             [
              0.8888888888888888,
              "#fdca26"
             ],
             [
              1,
              "#f0f921"
             ]
            ],
            "type": "surface"
           }
          ],
          "table": [
           {
            "cells": {
             "fill": {
              "color": "#EBF0F8"
             },
             "line": {
              "color": "white"
             }
            },
            "header": {
             "fill": {
              "color": "#C8D4E3"
             },
             "line": {
              "color": "white"
             }
            },
            "type": "table"
           }
          ]
         },
         "layout": {
          "annotationdefaults": {
           "arrowcolor": "#2a3f5f",
           "arrowhead": 0,
           "arrowwidth": 1
          },
          "autotypenumbers": "strict",
          "coloraxis": {
           "colorbar": {
            "outlinewidth": 0,
            "ticks": ""
           }
          },
          "colorscale": {
           "diverging": [
            [
             0,
             "#8e0152"
            ],
            [
             0.1,
             "#c51b7d"
            ],
            [
             0.2,
             "#de77ae"
            ],
            [
             0.3,
             "#f1b6da"
            ],
            [
             0.4,
             "#fde0ef"
            ],
            [
             0.5,
             "#f7f7f7"
            ],
            [
             0.6,
             "#e6f5d0"
            ],
            [
             0.7,
             "#b8e186"
            ],
            [
             0.8,
             "#7fbc41"
            ],
            [
             0.9,
             "#4d9221"
            ],
            [
             1,
             "#276419"
            ]
           ],
           "sequential": [
            [
             0,
             "#0d0887"
            ],
            [
             0.1111111111111111,
             "#46039f"
            ],
            [
             0.2222222222222222,
             "#7201a8"
            ],
            [
             0.3333333333333333,
             "#9c179e"
            ],
            [
             0.4444444444444444,
             "#bd3786"
            ],
            [
             0.5555555555555556,
             "#d8576b"
            ],
            [
             0.6666666666666666,
             "#ed7953"
            ],
            [
             0.7777777777777778,
             "#fb9f3a"
            ],
            [
             0.8888888888888888,
             "#fdca26"
            ],
            [
             1,
             "#f0f921"
            ]
           ],
           "sequentialminus": [
            [
             0,
             "#0d0887"
            ],
            [
             0.1111111111111111,
             "#46039f"
            ],
            [
             0.2222222222222222,
             "#7201a8"
            ],
            [
             0.3333333333333333,
             "#9c179e"
            ],
            [
             0.4444444444444444,
             "#bd3786"
            ],
            [
             0.5555555555555556,
             "#d8576b"
            ],
            [
             0.6666666666666666,
             "#ed7953"
            ],
            [
             0.7777777777777778,
             "#fb9f3a"
            ],
            [
             0.8888888888888888,
             "#fdca26"
            ],
            [
             1,
             "#f0f921"
            ]
           ]
          },
          "colorway": [
           "#636efa",
           "#EF553B",
           "#00cc96",
           "#ab63fa",
           "#FFA15A",
           "#19d3f3",
           "#FF6692",
           "#B6E880",
           "#FF97FF",
           "#FECB52"
          ],
          "font": {
           "color": "#2a3f5f"
          },
          "geo": {
           "bgcolor": "white",
           "lakecolor": "white",
           "landcolor": "#E5ECF6",
           "showlakes": true,
           "showland": true,
           "subunitcolor": "white"
          },
          "hoverlabel": {
           "align": "left"
          },
          "hovermode": "closest",
          "mapbox": {
           "style": "light"
          },
          "paper_bgcolor": "white",
          "plot_bgcolor": "#E5ECF6",
          "polar": {
           "angularaxis": {
            "gridcolor": "white",
            "linecolor": "white",
            "ticks": ""
           },
           "bgcolor": "#E5ECF6",
           "radialaxis": {
            "gridcolor": "white",
            "linecolor": "white",
            "ticks": ""
           }
          },
          "scene": {
           "xaxis": {
            "backgroundcolor": "#E5ECF6",
            "gridcolor": "white",
            "gridwidth": 2,
            "linecolor": "white",
            "showbackground": true,
            "ticks": "",
            "zerolinecolor": "white"
           },
           "yaxis": {
            "backgroundcolor": "#E5ECF6",
            "gridcolor": "white",
            "gridwidth": 2,
            "linecolor": "white",
            "showbackground": true,
            "ticks": "",
            "zerolinecolor": "white"
           },
           "zaxis": {
            "backgroundcolor": "#E5ECF6",
            "gridcolor": "white",
            "gridwidth": 2,
            "linecolor": "white",
            "showbackground": true,
            "ticks": "",
            "zerolinecolor": "white"
           }
          },
          "shapedefaults": {
           "line": {
            "color": "#2a3f5f"
           }
          },
          "ternary": {
           "aaxis": {
            "gridcolor": "white",
            "linecolor": "white",
            "ticks": ""
           },
           "baxis": {
            "gridcolor": "white",
            "linecolor": "white",
            "ticks": ""
           },
           "bgcolor": "#E5ECF6",
           "caxis": {
            "gridcolor": "white",
            "linecolor": "white",
            "ticks": ""
           }
          },
          "title": {
           "x": 0.05
          },
          "xaxis": {
           "automargin": true,
           "gridcolor": "white",
           "linecolor": "white",
           "ticks": "",
           "title": {
            "standoff": 15
           },
           "zerolinecolor": "white",
           "zerolinewidth": 2
          },
          "yaxis": {
           "automargin": true,
           "gridcolor": "white",
           "linecolor": "white",
           "ticks": "",
           "title": {
            "standoff": 15
           },
           "zerolinecolor": "white",
           "zerolinewidth": 2
          }
         }
        },
        "xaxis": {
         "anchor": "y",
         "domain": [
          0,
          1
         ],
         "title": {
          "text": "word"
         }
        },
        "yaxis": {
         "anchor": "x",
         "domain": [
          0,
          1
         ],
         "title": {
          "text": "frequency"
         }
        }
       }
      }
     },
     "metadata": {},
     "output_type": "display_data"
    }
   ],
   "source": [
    "# 依照詞彙出現數量排序，取前400\n",
    "sort_df = term_df.sort_values(by='frequency', ascending=False).head(400)\n",
    "\n",
    "# 畫圖\n",
    "fig = px.bar(sort_df, y='frequency', x='word', text_auto='.2s')\n",
    "fig.show()"
   ]
  },
  {
   "cell_type": "markdown",
   "metadata": {},
   "source": [
    "### **>>> Exercise 15:**  畫出對數分布圖"
   ]
  },
  {
   "cell_type": "code",
   "execution_count": 19,
   "metadata": {},
   "outputs": [
    {
     "data": {
      "application/vnd.plotly.v1+json": {
       "config": {
        "plotlyServerURL": "https://plot.ly"
       },
       "data": [
        {
         "hovertemplate": "word=%{x}<br>frequency=%{y}<extra></extra>",
         "legendgroup": "",
         "marker": {
          "color": "#636efa",
          "pattern": {
           "shape": ""
          }
         },
         "name": "",
         "orientation": "v",
         "showlegend": false,
         "textposition": "auto",
         "texttemplate": "%{y:.2s}",
         "type": "bar",
         "x": [
          "the",
          "to",
          "and",
          "is",
          "it",
          "of",
          "in",
          "that",
          "for",
          "this",
          "you",
          "on",
          "are",
          "they",
          "be",
          "he",
          "will",
          "with",
          "if",
          "as",
          "market",
          "but",
          "not",
          "so",
          "all",
          "have",
          "us",
          "just",
          "was",
          "at",
          "trump",
          "my",
          "what",
          "can",
          "like",
          "or",
          "we",
          "has",
          "their",
          "china",
          "about",
          "more",
          "from",
          "there",
          "now",
          "no",
          "by",
          "re",
          "how",
          "up",
          "one",
          "do",
          "some",
          "even",
          "think",
          "them",
          "people",
          "his",
          "stock",
          "going",
          "your",
          "an",
          "money",
          "good",
          "would",
          "any",
          "out",
          "see",
          "when",
          "who",
          "than",
          "tariffs",
          "only",
          "why",
          "been",
          "get",
          "other",
          "price",
          "time",
          "him",
          "make",
          "want",
          "into",
          "me",
          "don",
          "then",
          "down",
          "over",
          "doing",
          "could",
          "because",
          "futures",
          "silver",
          "right",
          "company",
          "still",
          "x200b",
          "go",
          "day",
          "should",
          "after",
          "years",
          "our",
          "also",
          "economy",
          "here",
          "world",
          "today",
          "much",
          "first",
          "did",
          "stocks",
          "dollar",
          "last",
          "way",
          "really",
          "buy",
          "doesn",
          "too",
          "well",
          "most",
          "were",
          "off",
          "companies",
          "long",
          "know",
          "week",
          "its",
          "does",
          "stockbuyvest",
          "these",
          "com",
          "new",
          "since",
          "year",
          "10",
          "sell",
          "trade",
          "back",
          "everyone",
          "ve",
          "better",
          "ll",
          "bad",
          "which",
          "american",
          "same",
          "every",
          "look",
          "looking",
          "call",
          "xi",
          "already",
          "term",
          "wants",
          "things",
          "emote",
          "img",
          "never",
          "need",
          "t5_2th52",
          "someone",
          "own",
          "fuck",
          "high",
          "say",
          "isn",
          "point",
          "let",
          "many",
          "may",
          "anything",
          "thing",
          "trading",
          "take",
          "selling",
          "before",
          "bond",
          "got",
          "big",
          "investors",
          "seems",
          "where",
          "bonds",
          "literally",
          "president",
          "am",
          "news",
          "had",
          "america",
          "shit",
          "daily",
          "always",
          "hold",
          "end",
          "reason",
          "war",
          "usa",
          "country",
          "higher",
          "invest",
          "feel",
          "future",
          "sure",
          "portfolio",
          "something",
          "nothing",
          "put",
          "didn",
          "again",
          "calls",
          "few",
          "gold",
          "technology",
          "made",
          "next",
          "buying",
          "another",
          "without",
          "worse",
          "pretty",
          "reddit",
          "might",
          "countries",
          "she",
          "anyone",
          "come",
          "everything",
          "chinese",
          "tariff",
          "updated",
          "deal",
          "data",
          "least",
          "great",
          "went",
          "won",
          "happening",
          "lose",
          "lot",
          "please",
          "currently",
          "plan",
          "work",
          "said",
          "else",
          "50",
          "target",
          "real",
          "industry",
          "usd",
          "power",
          "ago",
          "far",
          "puts",
          "lower",
          "done",
          "spy",
          "growth",
          "gonna",
          "moving",
          "rest",
          "risk",
          "getting",
          "100",
          "called",
          "seen",
          "life",
          "star",
          "fed",
          "actually",
          "believe",
          "rates",
          "probably",
          "making",
          "ever",
          "lithium",
          "free",
          "cash",
          "while",
          "very",
          "investment",
          "lol",
          "happen",
          "though",
          "analysis",
          "earnings",
          "short",
          "markets",
          "idea",
          "place",
          "being",
          "help",
          "government",
          "days",
          "haven",
          "maybe",
          "group",
          "those",
          "around",
          "paper",
          "administration",
          "until",
          "use",
          "support",
          "love",
          "thanks",
          "both",
          "note",
          "little",
          "gme",
          "yeah",
          "current",
          "squeeze",
          "trust",
          "part",
          "state",
          "stop",
          "past",
          "likely",
          "lmao",
          "old",
          "stuff",
          "treasuries",
          "powell",
          "potential",
          "used",
          "investing",
          "report",
          "30",
          "prices",
          "water",
          "comes",
          "americans",
          "read",
          "expect",
          "wrong",
          "mean",
          "republican",
          "through",
          "month",
          "graphite",
          "share",
          "weekly",
          "hey",
          "hurt",
          "build",
          "safe",
          "upgrades",
          "cost",
          "line",
          "white",
          "matter",
          "rise",
          "months",
          "electric",
          "show",
          "million",
          "anymore",
          "media",
          "thought",
          "guys",
          "ev",
          "guy",
          "significant",
          "talking",
          "talk",
          "aviation",
          "drop",
          "man",
          "during",
          "makes",
          "using",
          "insider",
          "completely",
          "coming",
          "bought",
          "economic",
          "massive",
          "red",
          "left",
          "oil",
          "started",
          "yields",
          "12",
          "bull",
          "15",
          "face",
          "dividend",
          "expecting",
          "start",
          "debt",
          "highlights",
          "care",
          "yet",
          "goes",
          "system",
          "fucking",
          "hard",
          "sales"
         ],
         "xaxis": "x",
         "y": {
          "bdata": "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",
          "dtype": "f8"
         },
         "yaxis": "y"
        }
       ],
       "layout": {
        "barmode": "relative",
        "legend": {
         "tracegroupgap": 0
        },
        "margin": {
         "t": 60
        },
        "template": {
         "data": {
          "bar": [
           {
            "error_x": {
             "color": "#2a3f5f"
            },
            "error_y": {
             "color": "#2a3f5f"
            },
            "marker": {
             "line": {
              "color": "#E5ECF6",
              "width": 0.5
             },
             "pattern": {
              "fillmode": "overlay",
              "size": 10,
              "solidity": 0.2
             }
            },
            "type": "bar"
           }
          ],
          "barpolar": [
           {
            "marker": {
             "line": {
              "color": "#E5ECF6",
              "width": 0.5
             },
             "pattern": {
              "fillmode": "overlay",
              "size": 10,
              "solidity": 0.2
             }
            },
            "type": "barpolar"
           }
          ],
          "carpet": [
           {
            "aaxis": {
             "endlinecolor": "#2a3f5f",
             "gridcolor": "white",
             "linecolor": "white",
             "minorgridcolor": "white",
             "startlinecolor": "#2a3f5f"
            },
            "baxis": {
             "endlinecolor": "#2a3f5f",
             "gridcolor": "white",
             "linecolor": "white",
             "minorgridcolor": "white",
             "startlinecolor": "#2a3f5f"
            },
            "type": "carpet"
           }
          ],
          "choropleth": [
           {
            "colorbar": {
             "outlinewidth": 0,
             "ticks": ""
            },
            "type": "choropleth"
           }
          ],
          "contour": [
           {
            "colorbar": {
             "outlinewidth": 0,
             "ticks": ""
            },
            "colorscale": [
             [
              0,
              "#0d0887"
             ],
             [
              0.1111111111111111,
              "#46039f"
             ],
             [
              0.2222222222222222,
              "#7201a8"
             ],
             [
              0.3333333333333333,
              "#9c179e"
             ],
             [
              0.4444444444444444,
              "#bd3786"
             ],
             [
              0.5555555555555556,
              "#d8576b"
             ],
             [
              0.6666666666666666,
              "#ed7953"
             ],
             [
              0.7777777777777778,
              "#fb9f3a"
             ],
             [
              0.8888888888888888,
              "#fdca26"
             ],
             [
              1,
              "#f0f921"
             ]
            ],
            "type": "contour"
           }
          ],
          "contourcarpet": [
           {
            "colorbar": {
             "outlinewidth": 0,
             "ticks": ""
            },
            "type": "contourcarpet"
           }
          ],
          "heatmap": [
           {
            "colorbar": {
             "outlinewidth": 0,
             "ticks": ""
            },
            "colorscale": [
             [
              0,
              "#0d0887"
             ],
             [
              0.1111111111111111,
              "#46039f"
             ],
             [
              0.2222222222222222,
              "#7201a8"
             ],
             [
              0.3333333333333333,
              "#9c179e"
             ],
             [
              0.4444444444444444,
              "#bd3786"
             ],
             [
              0.5555555555555556,
              "#d8576b"
             ],
             [
              0.6666666666666666,
              "#ed7953"
             ],
             [
              0.7777777777777778,
              "#fb9f3a"
             ],
             [
              0.8888888888888888,
              "#fdca26"
             ],
             [
              1,
              "#f0f921"
             ]
            ],
            "type": "heatmap"
           }
          ],
          "histogram": [
           {
            "marker": {
             "pattern": {
              "fillmode": "overlay",
              "size": 10,
              "solidity": 0.2
             }
            },
            "type": "histogram"
           }
          ],
          "histogram2d": [
           {
            "colorbar": {
             "outlinewidth": 0,
             "ticks": ""
            },
            "colorscale": [
             [
              0,
              "#0d0887"
             ],
             [
              0.1111111111111111,
              "#46039f"
             ],
             [
              0.2222222222222222,
              "#7201a8"
             ],
             [
              0.3333333333333333,
              "#9c179e"
             ],
             [
              0.4444444444444444,
              "#bd3786"
             ],
             [
              0.5555555555555556,
              "#d8576b"
             ],
             [
              0.6666666666666666,
              "#ed7953"
             ],
             [
              0.7777777777777778,
              "#fb9f3a"
             ],
             [
              0.8888888888888888,
              "#fdca26"
             ],
             [
              1,
              "#f0f921"
             ]
            ],
            "type": "histogram2d"
           }
          ],
          "histogram2dcontour": [
           {
            "colorbar": {
             "outlinewidth": 0,
             "ticks": ""
            },
            "colorscale": [
             [
              0,
              "#0d0887"
             ],
             [
              0.1111111111111111,
              "#46039f"
             ],
             [
              0.2222222222222222,
              "#7201a8"
             ],
             [
              0.3333333333333333,
              "#9c179e"
             ],
             [
              0.4444444444444444,
              "#bd3786"
             ],
             [
              0.5555555555555556,
              "#d8576b"
             ],
             [
              0.6666666666666666,
              "#ed7953"
             ],
             [
              0.7777777777777778,
              "#fb9f3a"
             ],
             [
              0.8888888888888888,
              "#fdca26"
             ],
             [
              1,
              "#f0f921"
             ]
            ],
            "type": "histogram2dcontour"
           }
          ],
          "mesh3d": [
           {
            "colorbar": {
             "outlinewidth": 0,
             "ticks": ""
            },
            "type": "mesh3d"
           }
          ],
          "parcoords": [
           {
            "line": {
             "colorbar": {
              "outlinewidth": 0,
              "ticks": ""
             }
            },
            "type": "parcoords"
           }
          ],
          "pie": [
           {
            "automargin": true,
            "type": "pie"
           }
          ],
          "scatter": [
           {
            "fillpattern": {
             "fillmode": "overlay",
             "size": 10,
             "solidity": 0.2
            },
            "type": "scatter"
           }
          ],
          "scatter3d": [
           {
            "line": {
             "colorbar": {
              "outlinewidth": 0,
              "ticks": ""
             }
            },
            "marker": {
             "colorbar": {
              "outlinewidth": 0,
              "ticks": ""
             }
            },
            "type": "scatter3d"
           }
          ],
          "scattercarpet": [
           {
            "marker": {
             "colorbar": {
              "outlinewidth": 0,
              "ticks": ""
             }
            },
            "type": "scattercarpet"
           }
          ],
          "scattergeo": [
           {
            "marker": {
             "colorbar": {
              "outlinewidth": 0,
              "ticks": ""
             }
            },
            "type": "scattergeo"
           }
          ],
          "scattergl": [
           {
            "marker": {
             "colorbar": {
              "outlinewidth": 0,
              "ticks": ""
             }
            },
            "type": "scattergl"
           }
          ],
          "scattermap": [
           {
            "marker": {
             "colorbar": {
              "outlinewidth": 0,
              "ticks": ""
             }
            },
            "type": "scattermap"
           }
          ],
          "scattermapbox": [
           {
            "marker": {
             "colorbar": {
              "outlinewidth": 0,
              "ticks": ""
             }
            },
            "type": "scattermapbox"
           }
          ],
          "scatterpolar": [
           {
            "marker": {
             "colorbar": {
              "outlinewidth": 0,
              "ticks": ""
             }
            },
            "type": "scatterpolar"
           }
          ],
          "scatterpolargl": [
           {
            "marker": {
             "colorbar": {
              "outlinewidth": 0,
              "ticks": ""
             }
            },
            "type": "scatterpolargl"
           }
          ],
          "scatterternary": [
           {
            "marker": {
             "colorbar": {
              "outlinewidth": 0,
              "ticks": ""
             }
            },
            "type": "scatterternary"
           }
          ],
          "surface": [
           {
            "colorbar": {
             "outlinewidth": 0,
             "ticks": ""
            },
            "colorscale": [
             [
              0,
              "#0d0887"
             ],
             [
              0.1111111111111111,
              "#46039f"
             ],
             [
              0.2222222222222222,
              "#7201a8"
             ],
             [
              0.3333333333333333,
              "#9c179e"
             ],
             [
              0.4444444444444444,
              "#bd3786"
             ],
             [
              0.5555555555555556,
              "#d8576b"
             ],
             [
              0.6666666666666666,
              "#ed7953"
             ],
             [
              0.7777777777777778,
              "#fb9f3a"
             ],
             [
              0.8888888888888888,
              "#fdca26"
             ],
             [
              1,
              "#f0f921"
             ]
            ],
            "type": "surface"
           }
          ],
          "table": [
           {
            "cells": {
             "fill": {
              "color": "#EBF0F8"
             },
             "line": {
              "color": "white"
             }
            },
            "header": {
             "fill": {
              "color": "#C8D4E3"
             },
             "line": {
              "color": "white"
             }
            },
            "type": "table"
           }
          ]
         },
         "layout": {
          "annotationdefaults": {
           "arrowcolor": "#2a3f5f",
           "arrowhead": 0,
           "arrowwidth": 1
          },
          "autotypenumbers": "strict",
          "coloraxis": {
           "colorbar": {
            "outlinewidth": 0,
            "ticks": ""
           }
          },
          "colorscale": {
           "diverging": [
            [
             0,
             "#8e0152"
            ],
            [
             0.1,
             "#c51b7d"
            ],
            [
             0.2,
             "#de77ae"
            ],
            [
             0.3,
             "#f1b6da"
            ],
            [
             0.4,
             "#fde0ef"
            ],
            [
             0.5,
             "#f7f7f7"
            ],
            [
             0.6,
             "#e6f5d0"
            ],
            [
             0.7,
             "#b8e186"
            ],
            [
             0.8,
             "#7fbc41"
            ],
            [
             0.9,
             "#4d9221"
            ],
            [
             1,
             "#276419"
            ]
           ],
           "sequential": [
            [
             0,
             "#0d0887"
            ],
            [
             0.1111111111111111,
             "#46039f"
            ],
            [
             0.2222222222222222,
             "#7201a8"
            ],
            [
             0.3333333333333333,
             "#9c179e"
            ],
            [
             0.4444444444444444,
             "#bd3786"
            ],
            [
             0.5555555555555556,
             "#d8576b"
            ],
            [
             0.6666666666666666,
             "#ed7953"
            ],
            [
             0.7777777777777778,
             "#fb9f3a"
            ],
            [
             0.8888888888888888,
             "#fdca26"
            ],
            [
             1,
             "#f0f921"
            ]
           ],
           "sequentialminus": [
            [
             0,
             "#0d0887"
            ],
            [
             0.1111111111111111,
             "#46039f"
            ],
            [
             0.2222222222222222,
             "#7201a8"
            ],
            [
             0.3333333333333333,
             "#9c179e"
            ],
            [
             0.4444444444444444,
             "#bd3786"
            ],
            [
             0.5555555555555556,
             "#d8576b"
            ],
            [
             0.6666666666666666,
             "#ed7953"
            ],
            [
             0.7777777777777778,
             "#fb9f3a"
            ],
            [
             0.8888888888888888,
             "#fdca26"
            ],
            [
             1,
             "#f0f921"
            ]
           ]
          },
          "colorway": [
           "#636efa",
           "#EF553B",
           "#00cc96",
           "#ab63fa",
           "#FFA15A",
           "#19d3f3",
           "#FF6692",
           "#B6E880",
           "#FF97FF",
           "#FECB52"
          ],
          "font": {
           "color": "#2a3f5f"
          },
          "geo": {
           "bgcolor": "white",
           "lakecolor": "white",
           "landcolor": "#E5ECF6",
           "showlakes": true,
           "showland": true,
           "subunitcolor": "white"
          },
          "hoverlabel": {
           "align": "left"
          },
          "hovermode": "closest",
          "mapbox": {
           "style": "light"
          },
          "paper_bgcolor": "white",
          "plot_bgcolor": "#E5ECF6",
          "polar": {
           "angularaxis": {
            "gridcolor": "white",
            "linecolor": "white",
            "ticks": ""
           },
           "bgcolor": "#E5ECF6",
           "radialaxis": {
            "gridcolor": "white",
            "linecolor": "white",
            "ticks": ""
           }
          },
          "scene": {
           "xaxis": {
            "backgroundcolor": "#E5ECF6",
            "gridcolor": "white",
            "gridwidth": 2,
            "linecolor": "white",
            "showbackground": true,
            "ticks": "",
            "zerolinecolor": "white"
           },
           "yaxis": {
            "backgroundcolor": "#E5ECF6",
            "gridcolor": "white",
            "gridwidth": 2,
            "linecolor": "white",
            "showbackground": true,
            "ticks": "",
            "zerolinecolor": "white"
           },
           "zaxis": {
            "backgroundcolor": "#E5ECF6",
            "gridcolor": "white",
            "gridwidth": 2,
            "linecolor": "white",
            "showbackground": true,
            "ticks": "",
            "zerolinecolor": "white"
           }
          },
          "shapedefaults": {
           "line": {
            "color": "#2a3f5f"
           }
          },
          "ternary": {
           "aaxis": {
            "gridcolor": "white",
            "linecolor": "white",
            "ticks": ""
           },
           "baxis": {
            "gridcolor": "white",
            "linecolor": "white",
            "ticks": ""
           },
           "bgcolor": "#E5ECF6",
           "caxis": {
            "gridcolor": "white",
            "linecolor": "white",
            "ticks": ""
           }
          },
          "title": {
           "x": 0.05
          },
          "xaxis": {
           "automargin": true,
           "gridcolor": "white",
           "linecolor": "white",
           "ticks": "",
           "title": {
            "standoff": 15
           },
           "zerolinecolor": "white",
           "zerolinewidth": 2
          },
          "yaxis": {
           "automargin": true,
           "gridcolor": "white",
           "linecolor": "white",
           "ticks": "",
           "title": {
            "standoff": 15
           },
           "zerolinecolor": "white",
           "zerolinewidth": 2
          }
         }
        },
        "xaxis": {
         "anchor": "y",
         "domain": [
          0,
          1
         ],
         "title": {
          "text": "word"
         }
        },
        "yaxis": {
         "anchor": "x",
         "domain": [
          0,
          1
         ],
         "title": {
          "text": "frequency"
         }
        }
       }
      }
     },
     "metadata": {},
     "output_type": "display_data"
    }
   ],
   "source": [
    "'''\n",
    "說明:\n",
    "對數分布，可以讓資料的變化更平滑、更容易比較出現頻率特別少和特別多的資料。\n",
    "'''\n",
    "# 將詞彙頻率轉換成 log 頻率\n",
    "term_frequencies_log = [math.log(i) for i in term_frequencies]\n",
    "\n",
    "# 把單字和 log 頻率打包成 dataframe\n",
    "df = pd.DataFrame({\n",
    "    'word': count_vect.get_feature_names_out()[:],\n",
    "    'frequency': term_frequencies_log[:]\n",
    "})\n",
    "\n",
    "# 按照頻率降序排序\n",
    "sort_df = df.sort_values(by='frequency', ascending=False).head(400)\n",
    "\n",
    "# 畫圖\n",
    "fig = px.bar(sort_df, y='frequency', x='word', text_auto='.2s')\n",
    "fig.show()"
   ]
  },
  {
   "cell_type": "markdown",
   "metadata": {},
   "source": [
    "# Phase 2"
   ]
  },
  {
   "cell_type": "code",
   "execution_count": null,
   "metadata": {},
   "outputs": [],
   "source": [
    "### Begin Assignment Here"
   ]
  }
 ],
 "metadata": {
  "kernelspec": {
   "display_name": "DM2025-Lab1-Exercise",
   "language": "python",
   "name": "python3"
  },
  "language_info": {
   "codemirror_mode": {
    "name": "ipython",
    "version": 3
   },
   "file_extension": ".py",
   "mimetype": "text/x-python",
   "name": "python",
   "nbconvert_exporter": "python",
   "pygments_lexer": "ipython3",
   "version": "3.11.0"
  }
 },
 "nbformat": 4,
 "nbformat_minor": 4
}
